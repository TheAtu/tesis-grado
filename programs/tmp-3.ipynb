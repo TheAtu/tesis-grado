{
 "cells": [
  {
   "cell_type": "code",
   "execution_count": 2,
   "metadata": {},
   "outputs": [],
   "source": [
    "import subprocess\n",
    "def c_import(library, elements=None, name=None, always_reimport= True, always_reinstall = True):\n",
    "  if elements:\n",
    "    import_str = f'from {library} import {\", \".join(elements)}'\n",
    "    tested_install_var = \", \".join(elements)\n",
    "    any_not_installed = True if any(e not in globals() for e in elements) else False\n",
    "  else:\n",
    "    import_str = f'import {library}'\n",
    "    tested_install_var = library\n",
    "    any_not_installed = True if library not in globals() else False\n",
    "  if name:\n",
    "    import_str = f'{import_str} as {name}'\n",
    "    tested_install_var = name\n",
    "    any_not_installed = True if name not in globals() else False\n",
    "\n",
    "  def sub_install():\n",
    "    subprocess.run(f'pip install {library}', shell=True, check=True)\n",
    "    print(f'Library {library} installed successfully.')\n",
    "\n",
    "  def sub_import():\n",
    "    exec(import_str, globals())\n",
    "    print(f'Library {library} imported successfully. As: \\n {import_str}')\n",
    "\n",
    "  if always_reinstall:\n",
    "    try:\n",
    "      sub_install()\n",
    "      sub_import()\n",
    "    except subprocess.CalledProcessError:\n",
    "      print(f'Failed to install {library}.')\n",
    "    except ImportError as err:\n",
    "      print(f'After Install. Import error: {err}')\n",
    "\n",
    "  else:\n",
    "    if always_reimport == True or any_not_installed == True:\n",
    "        try:\n",
    "          sub_import()\n",
    "        except ImportError as err:\n",
    "          print(f'Import error: {err}')\n",
    "          if library in str(err):\n",
    "            try:\n",
    "                # Use subprocess to run the pip install command\n",
    "                sub_install()\n",
    "                sub_import()\n",
    "            except subprocess.CalledProcessError:\n",
    "                print(f'Failed to install {library}.')\n",
    "    else:\n",
    "      print(f'\"{tested_install_var}\" already installed and imported')"
   ]
  },
  {
   "cell_type": "code",
   "execution_count": 3,
   "metadata": {},
   "outputs": [
    {
     "name": "stdout",
     "output_type": "stream",
     "text": [
      "Library pandas imported successfully. As: \n",
      " import pandas as pd\n",
      "Library csv imported successfully. As: \n",
      " import csv\n",
      "Library json imported successfully. As: \n",
      " import json\n",
      "Library os imported successfully. As: \n",
      " import os\n",
      "\"subprocess\" already installed and imported\n",
      "Library tqdm.notebook imported successfully. As: \n",
      " from tqdm.notebook import tqdm\n",
      "Library concurrent.futures imported successfully. As: \n",
      " from concurrent.futures import ProcessPoolExecutor\n",
      "Library datetime imported successfully. As: \n",
      " import datetime\n",
      "Library argparse imported successfully. As: \n",
      " import argparse\n",
      "Library codecs imported successfully. As: \n",
      " import codecs\n",
      "\"os\" already installed and imported\n",
      "Library sys imported successfully. As: \n",
      " import sys\n",
      "Library numpy imported successfully. As: \n",
      " import numpy as np\n"
     ]
    }
   ],
   "source": [
    "import_config = {'always_reimport': False, 'always_reinstall': False}\n",
    "c_import('pandas',name='pd',**import_config)\n",
    "c_import('csv',**import_config)\n",
    "c_import('json',**import_config)\n",
    "c_import('os',**import_config)\n",
    "c_import('subprocess',**import_config)\n",
    "c_import('tqdm.notebook',['tqdm'],**import_config)\n",
    "c_import('concurrent.futures',['ProcessPoolExecutor'],**import_config)\n",
    "c_import('datetime',**import_config)\n",
    "c_import('argparse', **import_config)\n",
    "c_import('codecs', **import_config)\n",
    "c_import('os', **import_config)\n",
    "c_import('sys', **import_config)\n",
    "c_import('numpy',name='np', **import_config)"
   ]
  },
  {
   "cell_type": "code",
   "execution_count": 5,
   "metadata": {},
   "outputs": [],
   "source": [
    "input_dir = \"../input/reddit_input/\"\n",
    "output_dir = \"../output/reddit_output/\"\n",
    "# split_files_dir = input_dir+'split_data/' #split JSONs output\n",
    "liwcdic_file_dir = '../input/Spanish_LIWC2007_Dictionary.dic'\n",
    "# Specify the folder path where you want to search for .zst files\n",
    "zst_files_dir = '/Volumes/Drakôn Kholkikos - 2TB/Tesis-Grado/input/reddit_input/'"
   ]
  },
  {
   "cell_type": "markdown",
   "metadata": {},
   "source": [
    "## v3"
   ]
  },
  {
   "cell_type": "code",
   "execution_count": null,
   "metadata": {},
   "outputs": [],
   "source": [
    "reddit_files_titles = [\n",
    "  # 'argentina_submissions',\n",
    "  'argentina_comments',\n",
    "  # 'Republica_Argentina_submissions',\n",
    "  # 'Republica_Argentina_comments',\n",
    "  # 'RepublicaArgentina_submissions',\n",
    "  # 'RepublicaArgentina_comments',\n",
    "]"
   ]
  },
  {
   "cell_type": "code",
   "execution_count": 7,
   "metadata": {},
   "outputs": [],
   "source": [
    "class liwc:\n",
    "\n",
    "    def load_liwc_dict(self, liwcdic_file):\n",
    "        file_content = codecs.open(liwcdic_file, \"r\", \"utf-8\").read()\n",
    "        cate_text = file_content[file_content.find(\"%\")+1:file_content[1:].find(\"%\")].strip()\n",
    "        for line in cate_text.split(\"\\n\"):\n",
    "            self.liwc_cate_name_by_number[int(line.strip().split(\"\\t\")[0])] = line.strip().split(\"\\t\")[1]\n",
    "\n",
    "        dict_text = file_content[file_content[1:].find(\"%\")+2:].strip()\n",
    "        for line in dict_text.split(\"\\n\"):\n",
    "            self.liwc_cate_number_by_word[line.strip().split(\"\\t\")[0]] = set([int(item) for item in line.strip().split(\"\\t\")[1:]])\n",
    "\n",
    "    def __init__(self, liwcdic_file=liwcdic_file_dir):\n",
    "\n",
    "        self.liwc_category_names = [\"WC\",'Funct', 'TotPron', 'PronPer', 'Yo', 'Nosotro', 'TuUtd', 'ElElla', 'Ellos', 'PronImp', 'Articulo', 'Verbos', 'VerbAux', 'Pasado', 'Present', 'Futuro', 'Adverb', 'Prepos', 'Conjunc', 'Negacio', 'Cuantif', 'Numeros', 'Maldec', 'verbYO', 'verbTU', 'verbNOS', 'verbosEL', 'verbELLOS', 'Subjuntiv', 'VosUtds', 'formal', 'informal', 'verbVos', 'Social', 'Familia', 'Amigos', 'Humanos', 'Afect', 'EmoPos', 'EmoNeg', 'Ansiedad', 'Enfado', 'Triste', 'MecCog', 'Insight', 'Causa', 'Discrep', 'Tentat', 'Certeza', 'Inhib', 'Incl', 'Excl', 'Percept', 'Ver', 'Oir', 'Sentir', 'Biolog', 'Cuerpo', 'Salud', 'Sexual', 'Ingerir', 'Relativ', 'Movim', 'Espacio', 'Tiempo', 'Trabajo', 'Logro', 'Placer', 'Hogar', 'Dinero', 'Relig', 'Muerte', 'Asentir', 'NoFluen', 'Relleno']\n",
    "        self.liwc_cate_name_by_number = {}\n",
    "        self.liwc_cate_number_by_word = {}\n",
    "\n",
    "        if os.path.exists(liwcdic_file) == False:\n",
    "\n",
    "            sys.exit()\n",
    "        else:\n",
    "            self.load_liwc_dict(liwcdic_file)\n",
    "\n",
    "    def getLIWCCount(self, text):\n",
    "        count_by_categories = {\"WC\":0,'Funct': 0, 'TotPron': 0, 'PronPer': 0, 'Yo': 0, 'Nosotro': 0, 'TuUtd': 0, 'ElElla': 0, 'Ellos': 0, 'PronImp': 0, 'Articulo': 0, 'Verbos': 0, 'VerbAux': 0, 'Pasado': 0, 'Present': 0, 'Futuro': 0, 'Adverb': 0, 'Prepos': 0, 'Conjunc': 0, 'Negacio': 0, 'Cuantif': 0, 'Numeros': 0, 'Maldec': 0, 'verbYO': 0, 'verbTU': 0, 'verbNOS': 0, 'verbosEL': 0, 'verbELLOS': 0, 'Subjuntiv': 0, 'VosUtds': 0, 'formal': 0, 'informal': 0, 'verbVos': 0, 'Social': 0, 'Familia': 0, 'Amigos': 0, 'Humanos': 0, 'Afect': 0, 'EmoPos': 0, 'EmoNeg': 0, 'Ansiedad': 0, 'Enfado': 0, 'Triste': 0, 'MecCog': 0, 'Insight': 0, 'Causa': 0, 'Discrep': 0, 'Tentat': 0, 'Certeza': 0, 'Inhib': 0, 'Incl': 0, 'Excl': 0, 'Percept': 0, 'Ver': 0, 'Oir': 0, 'Sentir': 0, 'Biolog': 0, 'Cuerpo': 0, 'Salud': 0, 'Sexual': 0, 'Ingerir': 0, 'Relativ': 0, 'Movim': 0, 'Espacio': 0, 'Tiempo': 0, 'Trabajo': 0, 'Logro': 0, 'Placer': 0, 'Hogar': 0, 'Dinero': 0, 'Relig': 0, 'Muerte': 0, 'Asentir': 0, 'NoFluen': 0, 'Relleno': 0}\n",
    "\n",
    "        count_by_categories[\"WC\"] = len(text.split())\n",
    "\n",
    "        for word in text.split():\n",
    "\n",
    "            cate_numbers_word_belongs = set([])\n",
    "            if word in self.liwc_cate_number_by_word:\n",
    "                cate_numbers_word_belongs = self.liwc_cate_number_by_word[word]\n",
    "\n",
    "            else:\n",
    "\n",
    "                #liwc words have *. eg: balcon*\n",
    "                word = word[:-1]\n",
    "                while len(word) > 0:\n",
    "                    if (word+\"*\") in self.liwc_cate_number_by_word:\n",
    "                        cate_numbers_word_belongs = self.liwc_cate_number_by_word[word+\"*\"]\n",
    "                        break\n",
    "                    else:\n",
    "                        word = word[:-1]\n",
    "\n",
    "            for num in cate_numbers_word_belongs:\n",
    "                count_by_categories[self.liwc_cate_name_by_number[num]] += 1\n",
    "\n",
    "        return count_by_categories"
   ]
  },
  {
   "cell_type": "code",
   "execution_count": 11,
   "metadata": {},
   "outputs": [],
   "source": [
    "def process_chunk(df):\n",
    "    def remove_invalids(col='', df=''):\n",
    "        invalid_options = [np.nan, 'nan', None, 0, '0', 'NaN', '[deleted]', '[removed]']\n",
    "        df = df.dropna(subset=[col], how='all')\n",
    "        df = df[~df[col].isin(invalid_options)]\n",
    "        return df\n",
    "\n",
    "    df = remove_invalids('text', df)\n",
    "\n",
    "    if 'title' in df.columns: #if its a submission (has title)\n",
    "        #remove invalid/incomplete obs\n",
    "        df = remove_invalids('title', df)\n",
    "        #join title and text (yes fillna just in case something passed previous cleanup)\n",
    "        df['text'] = df['title'].fillna('') + '\\n' + df['text'].fillna('')\n",
    "        #now drop it\n",
    "        df = df.drop(columns=['title'])\n",
    "    return df"
   ]
  },
  {
   "cell_type": "code",
   "execution_count": 13,
   "metadata": {},
   "outputs": [
    {
     "data": {
      "application/vnd.jupyter.widget-view+json": {
       "model_id": "2487fe48a9994a698ad0f4cfbeb33117",
       "version_major": 2,
       "version_minor": 0
      },
      "text/plain": [
       "Computing 0 LIWC:   0%|          | 0/93964 [00:00<?, ?it/s]"
      ]
     },
     "metadata": {},
     "output_type": "display_data"
    },
    {
     "data": {
      "application/vnd.jupyter.widget-view+json": {
       "model_id": "27cbca3321324819affff8c3db2f7d5c",
       "version_major": 2,
       "version_minor": 0
      },
      "text/plain": [
       "Computing 1 LIWC:   0%|          | 0/94489 [00:00<?, ?it/s]"
      ]
     },
     "metadata": {},
     "output_type": "display_data"
    },
    {
     "data": {
      "application/vnd.jupyter.widget-view+json": {
       "model_id": "9bfacb6f4061428cbfdb6a1ddc5d3edb",
       "version_major": 2,
       "version_minor": 0
      },
      "text/plain": [
       "Computing 2 LIWC:   0%|          | 0/94899 [00:00<?, ?it/s]"
      ]
     },
     "metadata": {},
     "output_type": "display_data"
    },
    {
     "data": {
      "application/vnd.jupyter.widget-view+json": {
       "model_id": "1323b537c52b4478a8a48e5f44d2c306",
       "version_major": 2,
       "version_minor": 0
      },
      "text/plain": [
       "Computing 3 LIWC:   0%|          | 0/95561 [00:00<?, ?it/s]"
      ]
     },
     "metadata": {},
     "output_type": "display_data"
    },
    {
     "data": {
      "application/vnd.jupyter.widget-view+json": {
       "model_id": "87b2de656dda499dab510b97c972c1b8",
       "version_major": 2,
       "version_minor": 0
      },
      "text/plain": [
       "Computing 4 LIWC:   0%|          | 0/94707 [00:00<?, ?it/s]"
      ]
     },
     "metadata": {},
     "output_type": "display_data"
    },
    {
     "data": {
      "application/vnd.jupyter.widget-view+json": {
       "model_id": "dba953a91e164aefb81fc4722ced0a85",
       "version_major": 2,
       "version_minor": 0
      },
      "text/plain": [
       "Computing 5 LIWC:   0%|          | 0/94430 [00:00<?, ?it/s]"
      ]
     },
     "metadata": {},
     "output_type": "display_data"
    },
    {
     "data": {
      "application/vnd.jupyter.widget-view+json": {
       "model_id": "c77b9223b40945a9b3c2454d1924b740",
       "version_major": 2,
       "version_minor": 0
      },
      "text/plain": [
       "Computing 6 LIWC:   0%|          | 0/94492 [00:00<?, ?it/s]"
      ]
     },
     "metadata": {},
     "output_type": "display_data"
    },
    {
     "data": {
      "application/vnd.jupyter.widget-view+json": {
       "model_id": "a75c9291797c49c8910d8d5e06ae3773",
       "version_major": 2,
       "version_minor": 0
      },
      "text/plain": [
       "Computing 7 LIWC:   0%|          | 0/93949 [00:00<?, ?it/s]"
      ]
     },
     "metadata": {},
     "output_type": "display_data"
    },
    {
     "data": {
      "application/vnd.jupyter.widget-view+json": {
       "model_id": "0d97c42d9bce4ca692993f5f22f78590",
       "version_major": 2,
       "version_minor": 0
      },
      "text/plain": [
       "Computing 8 LIWC:   0%|          | 0/93550 [00:00<?, ?it/s]"
      ]
     },
     "metadata": {},
     "output_type": "display_data"
    },
    {
     "data": {
      "application/vnd.jupyter.widget-view+json": {
       "model_id": "c4e8600946364eb9a772bc34f197a88d",
       "version_major": 2,
       "version_minor": 0
      },
      "text/plain": [
       "Computing 9 LIWC:   0%|          | 0/93875 [00:00<?, ?it/s]"
      ]
     },
     "metadata": {},
     "output_type": "display_data"
    },
    {
     "data": {
      "application/vnd.jupyter.widget-view+json": {
       "model_id": "63d4fb77260445ff824cffb3c8d4c96a",
       "version_major": 2,
       "version_minor": 0
      },
      "text/plain": [
       "Computing 10 LIWC:   0%|          | 0/93858 [00:00<?, ?it/s]"
      ]
     },
     "metadata": {},
     "output_type": "display_data"
    },
    {
     "data": {
      "application/vnd.jupyter.widget-view+json": {
       "model_id": "36a21511600b4c70a610fa31331e238f",
       "version_major": 2,
       "version_minor": 0
      },
      "text/plain": [
       "Computing 11 LIWC:   0%|          | 0/94324 [00:00<?, ?it/s]"
      ]
     },
     "metadata": {},
     "output_type": "display_data"
    },
    {
     "data": {
      "application/vnd.jupyter.widget-view+json": {
       "model_id": "8b533f76133a414ca317458bd847d7d7",
       "version_major": 2,
       "version_minor": 0
      },
      "text/plain": [
       "Computing 12 LIWC:   0%|          | 0/94779 [00:00<?, ?it/s]"
      ]
     },
     "metadata": {},
     "output_type": "display_data"
    },
    {
     "data": {
      "application/vnd.jupyter.widget-view+json": {
       "model_id": "13666d192c44489e86bcaac2caf33b79",
       "version_major": 2,
       "version_minor": 0
      },
      "text/plain": [
       "Computing 13 LIWC:   0%|          | 0/95504 [00:00<?, ?it/s]"
      ]
     },
     "metadata": {},
     "output_type": "display_data"
    },
    {
     "data": {
      "application/vnd.jupyter.widget-view+json": {
       "model_id": "2146209433d34766820774665d824482",
       "version_major": 2,
       "version_minor": 0
      },
      "text/plain": [
       "Computing 14 LIWC:   0%|          | 0/95132 [00:00<?, ?it/s]"
      ]
     },
     "metadata": {},
     "output_type": "display_data"
    },
    {
     "data": {
      "application/vnd.jupyter.widget-view+json": {
       "model_id": "6a1deaaa798a46cf8136873fecbf998e",
       "version_major": 2,
       "version_minor": 0
      },
      "text/plain": [
       "Computing 15 LIWC:   0%|          | 0/95341 [00:00<?, ?it/s]"
      ]
     },
     "metadata": {},
     "output_type": "display_data"
    },
    {
     "data": {
      "application/vnd.jupyter.widget-view+json": {
       "model_id": "3288c11e70eb41d889d972264328db04",
       "version_major": 2,
       "version_minor": 0
      },
      "text/plain": [
       "Computing 16 LIWC:   0%|          | 0/95155 [00:00<?, ?it/s]"
      ]
     },
     "metadata": {},
     "output_type": "display_data"
    },
    {
     "data": {
      "application/vnd.jupyter.widget-view+json": {
       "model_id": "3174595344d243799a8d670241c1da2d",
       "version_major": 2,
       "version_minor": 0
      },
      "text/plain": [
       "Computing 17 LIWC:   0%|          | 0/94442 [00:00<?, ?it/s]"
      ]
     },
     "metadata": {},
     "output_type": "display_data"
    },
    {
     "data": {
      "application/vnd.jupyter.widget-view+json": {
       "model_id": "dae71d2687ed4c9caf70c553f7186a4f",
       "version_major": 2,
       "version_minor": 0
      },
      "text/plain": [
       "Computing 18 LIWC:   0%|          | 0/94776 [00:00<?, ?it/s]"
      ]
     },
     "metadata": {},
     "output_type": "display_data"
    },
    {
     "data": {
      "application/vnd.jupyter.widget-view+json": {
       "model_id": "4d0dfda8ebed409a8c47fe0a36a3e40a",
       "version_major": 2,
       "version_minor": 0
      },
      "text/plain": [
       "Computing 19 LIWC:   0%|          | 0/94586 [00:00<?, ?it/s]"
      ]
     },
     "metadata": {},
     "output_type": "display_data"
    },
    {
     "data": {
      "application/vnd.jupyter.widget-view+json": {
       "model_id": "091611eebeec4c8f8332172796183eed",
       "version_major": 2,
       "version_minor": 0
      },
      "text/plain": [
       "Computing 20 LIWC:   0%|          | 0/94824 [00:00<?, ?it/s]"
      ]
     },
     "metadata": {},
     "output_type": "display_data"
    },
    {
     "data": {
      "application/vnd.jupyter.widget-view+json": {
       "model_id": "eb26c075f8d64240866acd8768a3bf0b",
       "version_major": 2,
       "version_minor": 0
      },
      "text/plain": [
       "Computing 21 LIWC:   0%|          | 0/94751 [00:00<?, ?it/s]"
      ]
     },
     "metadata": {},
     "output_type": "display_data"
    },
    {
     "data": {
      "application/vnd.jupyter.widget-view+json": {
       "model_id": "edbf9b7b77c24dcdbfcf7074f8018bcf",
       "version_major": 2,
       "version_minor": 0
      },
      "text/plain": [
       "Computing 22 LIWC:   0%|          | 0/94478 [00:00<?, ?it/s]"
      ]
     },
     "metadata": {},
     "output_type": "display_data"
    },
    {
     "data": {
      "application/vnd.jupyter.widget-view+json": {
       "model_id": "049206e02ca441fea154464d568584ab",
       "version_major": 2,
       "version_minor": 0
      },
      "text/plain": [
       "Computing 23 LIWC:   0%|          | 0/94031 [00:00<?, ?it/s]"
      ]
     },
     "metadata": {},
     "output_type": "display_data"
    },
    {
     "data": {
      "application/vnd.jupyter.widget-view+json": {
       "model_id": "59fc06df55014abe98d21cacce8b9dc9",
       "version_major": 2,
       "version_minor": 0
      },
      "text/plain": [
       "Computing 24 LIWC:   0%|          | 0/93978 [00:00<?, ?it/s]"
      ]
     },
     "metadata": {},
     "output_type": "display_data"
    },
    {
     "data": {
      "application/vnd.jupyter.widget-view+json": {
       "model_id": "f1433ecd9bda49a78827f715295b1d61",
       "version_major": 2,
       "version_minor": 0
      },
      "text/plain": [
       "Computing 25 LIWC:   0%|          | 0/93477 [00:00<?, ?it/s]"
      ]
     },
     "metadata": {},
     "output_type": "display_data"
    },
    {
     "data": {
      "application/vnd.jupyter.widget-view+json": {
       "model_id": "21837810772648ed8339a86d8f8a6add",
       "version_major": 2,
       "version_minor": 0
      },
      "text/plain": [
       "Computing 26 LIWC:   0%|          | 0/93606 [00:00<?, ?it/s]"
      ]
     },
     "metadata": {},
     "output_type": "display_data"
    },
    {
     "data": {
      "application/vnd.jupyter.widget-view+json": {
       "model_id": "fad8d04afa51447a8ac7f9d7d871dfc7",
       "version_major": 2,
       "version_minor": 0
      },
      "text/plain": [
       "Computing 27 LIWC:   0%|          | 0/94509 [00:00<?, ?it/s]"
      ]
     },
     "metadata": {},
     "output_type": "display_data"
    },
    {
     "data": {
      "application/vnd.jupyter.widget-view+json": {
       "model_id": "1cc5bac998474c849b8c0a0d90dace44",
       "version_major": 2,
       "version_minor": 0
      },
      "text/plain": [
       "Computing 28 LIWC:   0%|          | 0/94018 [00:00<?, ?it/s]"
      ]
     },
     "metadata": {},
     "output_type": "display_data"
    },
    {
     "data": {
      "application/vnd.jupyter.widget-view+json": {
       "model_id": "2dc521a00db446cb910694e1ea175f46",
       "version_major": 2,
       "version_minor": 0
      },
      "text/plain": [
       "Computing 29 LIWC:   0%|          | 0/94338 [00:00<?, ?it/s]"
      ]
     },
     "metadata": {},
     "output_type": "display_data"
    },
    {
     "data": {
      "application/vnd.jupyter.widget-view+json": {
       "model_id": "534e4c69b1ac4e40b0ac975d1d52ac93",
       "version_major": 2,
       "version_minor": 0
      },
      "text/plain": [
       "Computing 30 LIWC:   0%|          | 0/94601 [00:00<?, ?it/s]"
      ]
     },
     "metadata": {},
     "output_type": "display_data"
    },
    {
     "data": {
      "application/vnd.jupyter.widget-view+json": {
       "model_id": "c1d479e942584a1fa9cc39a7e65035e4",
       "version_major": 2,
       "version_minor": 0
      },
      "text/plain": [
       "Computing 31 LIWC:   0%|          | 0/95062 [00:00<?, ?it/s]"
      ]
     },
     "metadata": {},
     "output_type": "display_data"
    },
    {
     "data": {
      "application/vnd.jupyter.widget-view+json": {
       "model_id": "d5bb2bc522564781b351e11ab5912b8e",
       "version_major": 2,
       "version_minor": 0
      },
      "text/plain": [
       "Computing 32 LIWC:   0%|          | 0/94754 [00:00<?, ?it/s]"
      ]
     },
     "metadata": {},
     "output_type": "display_data"
    },
    {
     "data": {
      "application/vnd.jupyter.widget-view+json": {
       "model_id": "58ecbb99ec63494aa9bc6e87a139a66d",
       "version_major": 2,
       "version_minor": 0
      },
      "text/plain": [
       "Computing 33 LIWC:   0%|          | 0/92485 [00:00<?, ?it/s]"
      ]
     },
     "metadata": {},
     "output_type": "display_data"
    },
    {
     "data": {
      "application/vnd.jupyter.widget-view+json": {
       "model_id": "bba633f528a949de9c60b16eb13b665d",
       "version_major": 2,
       "version_minor": 0
      },
      "text/plain": [
       "Computing 34 LIWC:   0%|          | 0/92684 [00:00<?, ?it/s]"
      ]
     },
     "metadata": {},
     "output_type": "display_data"
    },
    {
     "data": {
      "application/vnd.jupyter.widget-view+json": {
       "model_id": "6c6b87f2ea964bfb951fc49caefbe725",
       "version_major": 2,
       "version_minor": 0
      },
      "text/plain": [
       "Computing 35 LIWC:   0%|          | 0/92458 [00:00<?, ?it/s]"
      ]
     },
     "metadata": {},
     "output_type": "display_data"
    },
    {
     "data": {
      "application/vnd.jupyter.widget-view+json": {
       "model_id": "2a37dacc35c64344a4acdc01ff13c8e6",
       "version_major": 2,
       "version_minor": 0
      },
      "text/plain": [
       "Computing 36 LIWC:   0%|          | 0/92772 [00:00<?, ?it/s]"
      ]
     },
     "metadata": {},
     "output_type": "display_data"
    },
    {
     "data": {
      "application/vnd.jupyter.widget-view+json": {
       "model_id": "9b1642f6ca3c4d8e8427ef5c7ba13f43",
       "version_major": 2,
       "version_minor": 0
      },
      "text/plain": [
       "Computing 37 LIWC:   0%|          | 0/93222 [00:00<?, ?it/s]"
      ]
     },
     "metadata": {},
     "output_type": "display_data"
    },
    {
     "data": {
      "application/vnd.jupyter.widget-view+json": {
       "model_id": "c500bdadd1674d85a05295c2846b53b2",
       "version_major": 2,
       "version_minor": 0
      },
      "text/plain": [
       "Computing 38 LIWC:   0%|          | 0/92555 [00:00<?, ?it/s]"
      ]
     },
     "metadata": {},
     "output_type": "display_data"
    },
    {
     "data": {
      "application/vnd.jupyter.widget-view+json": {
       "model_id": "f1dea4ae6fd64c459701c57a0c93902f",
       "version_major": 2,
       "version_minor": 0
      },
      "text/plain": [
       "Computing 39 LIWC:   0%|          | 0/93657 [00:00<?, ?it/s]"
      ]
     },
     "metadata": {},
     "output_type": "display_data"
    },
    {
     "data": {
      "application/vnd.jupyter.widget-view+json": {
       "model_id": "dbfc32947328480281a5f8c6b953289c",
       "version_major": 2,
       "version_minor": 0
      },
      "text/plain": [
       "Computing 40 LIWC:   0%|          | 0/94371 [00:00<?, ?it/s]"
      ]
     },
     "metadata": {},
     "output_type": "display_data"
    },
    {
     "data": {
      "application/vnd.jupyter.widget-view+json": {
       "model_id": "2a891f6005494f16b5b6e4ffb1fa740c",
       "version_major": 2,
       "version_minor": 0
      },
      "text/plain": [
       "Computing 41 LIWC:   0%|          | 0/94527 [00:00<?, ?it/s]"
      ]
     },
     "metadata": {},
     "output_type": "display_data"
    },
    {
     "data": {
      "application/vnd.jupyter.widget-view+json": {
       "model_id": "5a63d42888c84dc885a74a495865ed6b",
       "version_major": 2,
       "version_minor": 0
      },
      "text/plain": [
       "Computing 42 LIWC:   0%|          | 0/94189 [00:00<?, ?it/s]"
      ]
     },
     "metadata": {},
     "output_type": "display_data"
    },
    {
     "data": {
      "application/vnd.jupyter.widget-view+json": {
       "model_id": "d0676450da8e41bb835236cace0bb15b",
       "version_major": 2,
       "version_minor": 0
      },
      "text/plain": [
       "Computing 43 LIWC:   0%|          | 0/93669 [00:00<?, ?it/s]"
      ]
     },
     "metadata": {},
     "output_type": "display_data"
    },
    {
     "data": {
      "application/vnd.jupyter.widget-view+json": {
       "model_id": "fcdc02210df64491a4151526c35a2809",
       "version_major": 2,
       "version_minor": 0
      },
      "text/plain": [
       "Computing 44 LIWC:   0%|          | 0/94126 [00:00<?, ?it/s]"
      ]
     },
     "metadata": {},
     "output_type": "display_data"
    },
    {
     "data": {
      "application/vnd.jupyter.widget-view+json": {
       "model_id": "29f8f650b978438bb5ecb13f714b54a2",
       "version_major": 2,
       "version_minor": 0
      },
      "text/plain": [
       "Computing 45 LIWC:   0%|          | 0/94297 [00:00<?, ?it/s]"
      ]
     },
     "metadata": {},
     "output_type": "display_data"
    },
    {
     "data": {
      "application/vnd.jupyter.widget-view+json": {
       "model_id": "66bf44d4675740b69731b9e5cb17359c",
       "version_major": 2,
       "version_minor": 0
      },
      "text/plain": [
       "Computing 46 LIWC:   0%|          | 0/94228 [00:00<?, ?it/s]"
      ]
     },
     "metadata": {},
     "output_type": "display_data"
    },
    {
     "data": {
      "application/vnd.jupyter.widget-view+json": {
       "model_id": "391acf14cb3547aba6eece3b186846e3",
       "version_major": 2,
       "version_minor": 0
      },
      "text/plain": [
       "Computing 47 LIWC:   0%|          | 0/94093 [00:00<?, ?it/s]"
      ]
     },
     "metadata": {},
     "output_type": "display_data"
    },
    {
     "data": {
      "application/vnd.jupyter.widget-view+json": {
       "model_id": "476aaf37937e4b9fb833df41c4f8b0e8",
       "version_major": 2,
       "version_minor": 0
      },
      "text/plain": [
       "Computing 48 LIWC:   0%|          | 0/92918 [00:00<?, ?it/s]"
      ]
     },
     "metadata": {},
     "output_type": "display_data"
    },
    {
     "data": {
      "application/vnd.jupyter.widget-view+json": {
       "model_id": "e4567ab053544f8ea2420fb3e494ce48",
       "version_major": 2,
       "version_minor": 0
      },
      "text/plain": [
       "Computing 49 LIWC:   0%|          | 0/92551 [00:00<?, ?it/s]"
      ]
     },
     "metadata": {},
     "output_type": "display_data"
    },
    {
     "data": {
      "application/vnd.jupyter.widget-view+json": {
       "model_id": "7ee33c0c66ad4743b89b09fb24ad8ab6",
       "version_major": 2,
       "version_minor": 0
      },
      "text/plain": [
       "Computing 50 LIWC:   0%|          | 0/92639 [00:00<?, ?it/s]"
      ]
     },
     "metadata": {},
     "output_type": "display_data"
    },
    {
     "data": {
      "application/vnd.jupyter.widget-view+json": {
       "model_id": "4c41447c65cf4433b919495f8e60f512",
       "version_major": 2,
       "version_minor": 0
      },
      "text/plain": [
       "Computing 51 LIWC:   0%|          | 0/93014 [00:00<?, ?it/s]"
      ]
     },
     "metadata": {},
     "output_type": "display_data"
    },
    {
     "data": {
      "application/vnd.jupyter.widget-view+json": {
       "model_id": "c278b227c1fc43c3963c4229d8e07f4a",
       "version_major": 2,
       "version_minor": 0
      },
      "text/plain": [
       "Computing 52 LIWC:   0%|          | 0/93553 [00:00<?, ?it/s]"
      ]
     },
     "metadata": {},
     "output_type": "display_data"
    },
    {
     "data": {
      "application/vnd.jupyter.widget-view+json": {
       "model_id": "b350473d02ad4b3b8aba7ab9a350066a",
       "version_major": 2,
       "version_minor": 0
      },
      "text/plain": [
       "Computing 53 LIWC:   0%|          | 0/94094 [00:00<?, ?it/s]"
      ]
     },
     "metadata": {},
     "output_type": "display_data"
    },
    {
     "data": {
      "application/vnd.jupyter.widget-view+json": {
       "model_id": "fdd5ae98390e40eeafef239399ddd647",
       "version_major": 2,
       "version_minor": 0
      },
      "text/plain": [
       "Computing 54 LIWC:   0%|          | 0/94049 [00:00<?, ?it/s]"
      ]
     },
     "metadata": {},
     "output_type": "display_data"
    },
    {
     "data": {
      "application/vnd.jupyter.widget-view+json": {
       "model_id": "6d779fa6952d4e41aff89904b7613620",
       "version_major": 2,
       "version_minor": 0
      },
      "text/plain": [
       "Computing 55 LIWC:   0%|          | 0/95174 [00:00<?, ?it/s]"
      ]
     },
     "metadata": {},
     "output_type": "display_data"
    },
    {
     "data": {
      "application/vnd.jupyter.widget-view+json": {
       "model_id": "b5b265b4773a48c8bed8b65233080798",
       "version_major": 2,
       "version_minor": 0
      },
      "text/plain": [
       "Computing 56 LIWC:   0%|          | 0/95134 [00:00<?, ?it/s]"
      ]
     },
     "metadata": {},
     "output_type": "display_data"
    },
    {
     "data": {
      "application/vnd.jupyter.widget-view+json": {
       "model_id": "04bee9c0d8bb43e6b0c7119411a8a44e",
       "version_major": 2,
       "version_minor": 0
      },
      "text/plain": [
       "Computing 57 LIWC:   0%|          | 0/95315 [00:00<?, ?it/s]"
      ]
     },
     "metadata": {},
     "output_type": "display_data"
    },
    {
     "data": {
      "application/vnd.jupyter.widget-view+json": {
       "model_id": "34635a27ad64491a8aadb3168b72928c",
       "version_major": 2,
       "version_minor": 0
      },
      "text/plain": [
       "Computing 58 LIWC:   0%|          | 0/94994 [00:00<?, ?it/s]"
      ]
     },
     "metadata": {},
     "output_type": "display_data"
    },
    {
     "data": {
      "application/vnd.jupyter.widget-view+json": {
       "model_id": "81f3ec9edf6d4df29424a90c73e799d9",
       "version_major": 2,
       "version_minor": 0
      },
      "text/plain": [
       "Computing 59 LIWC:   0%|          | 0/95231 [00:00<?, ?it/s]"
      ]
     },
     "metadata": {},
     "output_type": "display_data"
    },
    {
     "data": {
      "application/vnd.jupyter.widget-view+json": {
       "model_id": "65a605c022804cab9741fc392744a47d",
       "version_major": 2,
       "version_minor": 0
      },
      "text/plain": [
       "Computing 60 LIWC:   0%|          | 0/95417 [00:00<?, ?it/s]"
      ]
     },
     "metadata": {},
     "output_type": "display_data"
    },
    {
     "data": {
      "application/vnd.jupyter.widget-view+json": {
       "model_id": "85699a91cf6c47e3b2cdc7f5da32fdf7",
       "version_major": 2,
       "version_minor": 0
      },
      "text/plain": [
       "Computing 61 LIWC:   0%|          | 0/95792 [00:00<?, ?it/s]"
      ]
     },
     "metadata": {},
     "output_type": "display_data"
    },
    {
     "data": {
      "application/vnd.jupyter.widget-view+json": {
       "model_id": "d8312308d2ae4cca90895ce292ef3a8e",
       "version_major": 2,
       "version_minor": 0
      },
      "text/plain": [
       "Computing 62 LIWC:   0%|          | 0/95983 [00:00<?, ?it/s]"
      ]
     },
     "metadata": {},
     "output_type": "display_data"
    },
    {
     "data": {
      "application/vnd.jupyter.widget-view+json": {
       "model_id": "159e6ec840874f89aa45f2ebe2a42951",
       "version_major": 2,
       "version_minor": 0
      },
      "text/plain": [
       "Computing 63 LIWC:   0%|          | 0/95964 [00:00<?, ?it/s]"
      ]
     },
     "metadata": {},
     "output_type": "display_data"
    },
    {
     "data": {
      "application/vnd.jupyter.widget-view+json": {
       "model_id": "639b7873c7964350ae490d98a9c46511",
       "version_major": 2,
       "version_minor": 0
      },
      "text/plain": [
       "Computing 64 LIWC:   0%|          | 0/96620 [00:00<?, ?it/s]"
      ]
     },
     "metadata": {},
     "output_type": "display_data"
    },
    {
     "data": {
      "application/vnd.jupyter.widget-view+json": {
       "model_id": "08a61c4186474eeb8a21d89355901882",
       "version_major": 2,
       "version_minor": 0
      },
      "text/plain": [
       "Computing 65 LIWC:   0%|          | 0/96121 [00:00<?, ?it/s]"
      ]
     },
     "metadata": {},
     "output_type": "display_data"
    },
    {
     "data": {
      "application/vnd.jupyter.widget-view+json": {
       "model_id": "de15d10eaa274292bac31f9deb6b5763",
       "version_major": 2,
       "version_minor": 0
      },
      "text/plain": [
       "Computing 66 LIWC:   0%|          | 0/96329 [00:00<?, ?it/s]"
      ]
     },
     "metadata": {},
     "output_type": "display_data"
    },
    {
     "data": {
      "application/vnd.jupyter.widget-view+json": {
       "model_id": "b5c40e88947f4882a6cfc6d914c44be9",
       "version_major": 2,
       "version_minor": 0
      },
      "text/plain": [
       "Computing 67 LIWC:   0%|          | 0/95459 [00:00<?, ?it/s]"
      ]
     },
     "metadata": {},
     "output_type": "display_data"
    },
    {
     "data": {
      "application/vnd.jupyter.widget-view+json": {
       "model_id": "3a07a9d33d9740fe934504b3f3dfdc7c",
       "version_major": 2,
       "version_minor": 0
      },
      "text/plain": [
       "Computing 68 LIWC:   0%|          | 0/95364 [00:00<?, ?it/s]"
      ]
     },
     "metadata": {},
     "output_type": "display_data"
    },
    {
     "data": {
      "application/vnd.jupyter.widget-view+json": {
       "model_id": "b7327b3a1c6d4231801c5cf558a76672",
       "version_major": 2,
       "version_minor": 0
      },
      "text/plain": [
       "Computing 69 LIWC:   0%|          | 0/95309 [00:00<?, ?it/s]"
      ]
     },
     "metadata": {},
     "output_type": "display_data"
    },
    {
     "data": {
      "application/vnd.jupyter.widget-view+json": {
       "model_id": "2893f8866a5b4e9f8ac56516c1ba2c2c",
       "version_major": 2,
       "version_minor": 0
      },
      "text/plain": [
       "Computing 70 LIWC:   0%|          | 0/95540 [00:00<?, ?it/s]"
      ]
     },
     "metadata": {},
     "output_type": "display_data"
    },
    {
     "data": {
      "application/vnd.jupyter.widget-view+json": {
       "model_id": "027fa425c39a4a3a8dd335cc67839506",
       "version_major": 2,
       "version_minor": 0
      },
      "text/plain": [
       "Computing 71 LIWC:   0%|          | 0/96289 [00:00<?, ?it/s]"
      ]
     },
     "metadata": {},
     "output_type": "display_data"
    },
    {
     "data": {
      "application/vnd.jupyter.widget-view+json": {
       "model_id": "220eac9108c5408f92a7d6c584413058",
       "version_major": 2,
       "version_minor": 0
      },
      "text/plain": [
       "Computing 72 LIWC:   0%|          | 0/96168 [00:00<?, ?it/s]"
      ]
     },
     "metadata": {},
     "output_type": "display_data"
    },
    {
     "data": {
      "application/vnd.jupyter.widget-view+json": {
       "model_id": "45e630d9b12949f6bbea7f30bbd103c9",
       "version_major": 2,
       "version_minor": 0
      },
      "text/plain": [
       "Computing 73 LIWC:   0%|          | 0/95732 [00:00<?, ?it/s]"
      ]
     },
     "metadata": {},
     "output_type": "display_data"
    },
    {
     "data": {
      "application/vnd.jupyter.widget-view+json": {
       "model_id": "64fab9b0f14146d69bc29f4c79a2ed1e",
       "version_major": 2,
       "version_minor": 0
      },
      "text/plain": [
       "Computing 74 LIWC:   0%|          | 0/95783 [00:00<?, ?it/s]"
      ]
     },
     "metadata": {},
     "output_type": "display_data"
    },
    {
     "data": {
      "application/vnd.jupyter.widget-view+json": {
       "model_id": "8613be7b632546e691aaf80c178b5c11",
       "version_major": 2,
       "version_minor": 0
      },
      "text/plain": [
       "Computing 75 LIWC:   0%|          | 0/96244 [00:00<?, ?it/s]"
      ]
     },
     "metadata": {},
     "output_type": "display_data"
    },
    {
     "data": {
      "application/vnd.jupyter.widget-view+json": {
       "model_id": "76797d0e75ba4ebc8ec47ff6d70a02ca",
       "version_major": 2,
       "version_minor": 0
      },
      "text/plain": [
       "Computing 76 LIWC:   0%|          | 0/96407 [00:00<?, ?it/s]"
      ]
     },
     "metadata": {},
     "output_type": "display_data"
    },
    {
     "data": {
      "application/vnd.jupyter.widget-view+json": {
       "model_id": "1eeb8a498d0f41c2825da84d8cf69909",
       "version_major": 2,
       "version_minor": 0
      },
      "text/plain": [
       "Computing 77 LIWC:   0%|          | 0/95281 [00:00<?, ?it/s]"
      ]
     },
     "metadata": {},
     "output_type": "display_data"
    },
    {
     "data": {
      "application/vnd.jupyter.widget-view+json": {
       "model_id": "ad7e7844bd9a4bf08f5b89b1616aba0e",
       "version_major": 2,
       "version_minor": 0
      },
      "text/plain": [
       "Computing 78 LIWC:   0%|          | 0/95792 [00:00<?, ?it/s]"
      ]
     },
     "metadata": {},
     "output_type": "display_data"
    },
    {
     "data": {
      "application/vnd.jupyter.widget-view+json": {
       "model_id": "2c09ebc8bb204adfab0c04d9db4ac2a9",
       "version_major": 2,
       "version_minor": 0
      },
      "text/plain": [
       "Computing 79 LIWC:   0%|          | 0/96138 [00:00<?, ?it/s]"
      ]
     },
     "metadata": {},
     "output_type": "display_data"
    },
    {
     "data": {
      "application/vnd.jupyter.widget-view+json": {
       "model_id": "5c19527c080e453c93f33cd3abcb2525",
       "version_major": 2,
       "version_minor": 0
      },
      "text/plain": [
       "Computing 80 LIWC:   0%|          | 0/96624 [00:00<?, ?it/s]"
      ]
     },
     "metadata": {},
     "output_type": "display_data"
    },
    {
     "data": {
      "application/vnd.jupyter.widget-view+json": {
       "model_id": "ed7d6f73cd964007bbb4c24e29fc5c6f",
       "version_major": 2,
       "version_minor": 0
      },
      "text/plain": [
       "Computing 81 LIWC:   0%|          | 0/96322 [00:00<?, ?it/s]"
      ]
     },
     "metadata": {},
     "output_type": "display_data"
    },
    {
     "data": {
      "application/vnd.jupyter.widget-view+json": {
       "model_id": "12bb1b4a461a4656a653c495fd1a681e",
       "version_major": 2,
       "version_minor": 0
      },
      "text/plain": [
       "Computing 82 LIWC:   0%|          | 0/96189 [00:00<?, ?it/s]"
      ]
     },
     "metadata": {},
     "output_type": "display_data"
    },
    {
     "data": {
      "application/vnd.jupyter.widget-view+json": {
       "model_id": "aa24bdf5e0f04b6d9398790c42d452ca",
       "version_major": 2,
       "version_minor": 0
      },
      "text/plain": [
       "Computing 83 LIWC:   0%|          | 0/96039 [00:00<?, ?it/s]"
      ]
     },
     "metadata": {},
     "output_type": "display_data"
    },
    {
     "data": {
      "application/vnd.jupyter.widget-view+json": {
       "model_id": "64c8cd9df7b84399b946381c2666ae6f",
       "version_major": 2,
       "version_minor": 0
      },
      "text/plain": [
       "Computing 84 LIWC:   0%|          | 0/96352 [00:00<?, ?it/s]"
      ]
     },
     "metadata": {},
     "output_type": "display_data"
    },
    {
     "data": {
      "application/vnd.jupyter.widget-view+json": {
       "model_id": "97215da3fa0246d1a9a1f1186cb5e5db",
       "version_major": 2,
       "version_minor": 0
      },
      "text/plain": [
       "Computing 85 LIWC:   0%|          | 0/96465 [00:00<?, ?it/s]"
      ]
     },
     "metadata": {},
     "output_type": "display_data"
    },
    {
     "data": {
      "application/vnd.jupyter.widget-view+json": {
       "model_id": "071254e8210b4a92ba4fa3c76c6fe701",
       "version_major": 2,
       "version_minor": 0
      },
      "text/plain": [
       "Computing 86 LIWC:   0%|          | 0/95955 [00:00<?, ?it/s]"
      ]
     },
     "metadata": {},
     "output_type": "display_data"
    },
    {
     "data": {
      "application/vnd.jupyter.widget-view+json": {
       "model_id": "7f9817e6201d4635865573e72133b4e2",
       "version_major": 2,
       "version_minor": 0
      },
      "text/plain": [
       "Computing 87 LIWC:   0%|          | 0/96101 [00:00<?, ?it/s]"
      ]
     },
     "metadata": {},
     "output_type": "display_data"
    },
    {
     "data": {
      "application/vnd.jupyter.widget-view+json": {
       "model_id": "e73309db691e40299c8dabea3d6f3f35",
       "version_major": 2,
       "version_minor": 0
      },
      "text/plain": [
       "Computing 88 LIWC:   0%|          | 0/95570 [00:00<?, ?it/s]"
      ]
     },
     "metadata": {},
     "output_type": "display_data"
    },
    {
     "data": {
      "application/vnd.jupyter.widget-view+json": {
       "model_id": "5b224a7b3e684e75b70466c7b3f4a862",
       "version_major": 2,
       "version_minor": 0
      },
      "text/plain": [
       "Computing 89 LIWC:   0%|          | 0/94988 [00:00<?, ?it/s]"
      ]
     },
     "metadata": {},
     "output_type": "display_data"
    },
    {
     "data": {
      "application/vnd.jupyter.widget-view+json": {
       "model_id": "b0c0d41cd77547b6a503e2fb5d6ddbe6",
       "version_major": 2,
       "version_minor": 0
      },
      "text/plain": [
       "Computing 90 LIWC:   0%|          | 0/94533 [00:00<?, ?it/s]"
      ]
     },
     "metadata": {},
     "output_type": "display_data"
    },
    {
     "data": {
      "application/vnd.jupyter.widget-view+json": {
       "model_id": "6f8b35fe857a4158b04392fffdda37bd",
       "version_major": 2,
       "version_minor": 0
      },
      "text/plain": [
       "Computing 91 LIWC:   0%|          | 0/95034 [00:00<?, ?it/s]"
      ]
     },
     "metadata": {},
     "output_type": "display_data"
    },
    {
     "data": {
      "application/vnd.jupyter.widget-view+json": {
       "model_id": "bd2398b833554b45b007ca4e0523910c",
       "version_major": 2,
       "version_minor": 0
      },
      "text/plain": [
       "Computing 92 LIWC:   0%|          | 0/94394 [00:00<?, ?it/s]"
      ]
     },
     "metadata": {},
     "output_type": "display_data"
    },
    {
     "data": {
      "application/vnd.jupyter.widget-view+json": {
       "model_id": "712c837b94b14214b0a65aeb0f5c04e8",
       "version_major": 2,
       "version_minor": 0
      },
      "text/plain": [
       "Computing 93 LIWC:   0%|          | 0/94924 [00:00<?, ?it/s]"
      ]
     },
     "metadata": {},
     "output_type": "display_data"
    },
    {
     "data": {
      "application/vnd.jupyter.widget-view+json": {
       "model_id": "4141b31dbb6749d2800c101e5cefba3e",
       "version_major": 2,
       "version_minor": 0
      },
      "text/plain": [
       "Computing 94 LIWC:   0%|          | 0/94587 [00:00<?, ?it/s]"
      ]
     },
     "metadata": {},
     "output_type": "display_data"
    },
    {
     "data": {
      "application/vnd.jupyter.widget-view+json": {
       "model_id": "79cc613c7e104ffe8e3edaf9971f373f",
       "version_major": 2,
       "version_minor": 0
      },
      "text/plain": [
       "Computing 95 LIWC:   0%|          | 0/95019 [00:00<?, ?it/s]"
      ]
     },
     "metadata": {},
     "output_type": "display_data"
    },
    {
     "data": {
      "application/vnd.jupyter.widget-view+json": {
       "model_id": "f2fbf71eb25941c7aa813ea08973e9ed",
       "version_major": 2,
       "version_minor": 0
      },
      "text/plain": [
       "Computing 96 LIWC:   0%|          | 0/65242 [00:00<?, ?it/s]"
      ]
     },
     "metadata": {},
     "output_type": "display_data"
    }
   ],
   "source": [
    "# Define the path to your large CSV file\n",
    "large_csv_file = '/Volumes/Drakôn Kholkikos - 2TB/Tesis-Grado/output/reddit_output/argentina_comments-output_table.csv'\n",
    "source = 'argentina_comments'\n",
    "source_output_dir = f'../output/reddit_output/filtered_tables_LIWC_count/comments'\n",
    "\n",
    "# Specify the chunk size (number of rows per chunk)\n",
    "chunk_size = 100000  # Adjust this value according to your memory capacity\n",
    "\n",
    "# Initialize a counter to keep track of the chunk number\n",
    "chunk_number = 0\n",
    "\n",
    "# Create a CSV reader object\n",
    "csv_reader = pd.read_csv(large_csv_file, sep=',', chunksize=chunk_size)\n",
    "\n",
    "# Iterate through the CSV in chunks\n",
    "for chunk in csv_reader:\n",
    "    # Process the chunk as needed (e.g., data manipulation, filtering, etc.)\n",
    "    chunk = process_chunk(chunk)\n",
    "\n",
    "    tqdm.pandas(desc = f'Computing {chunk_number} LIWC')\n",
    "    # Assuming you have the LIWC counts as a Series\n",
    "    liwc_counts = chunk['text'].progress_apply(liwc().getLIWCCount)\n",
    "    liwc_df = pd.DataFrame(liwc_counts.tolist())\n",
    "\n",
    "    # Now the DataFrame will have columns for each LIWC category\n",
    "    df_merge = pd.concat([chunk, liwc_df], axis=1)\n",
    "\n",
    "    # You can save or process each chunk here\n",
    "    chunk_number += 1\n",
    "    output_file = f'{source_output_dir}/chunk_liwc_{chunk_number}.csv'\n",
    "    df_merge.to_csv(output_file, index=False, sep=',', quoting=csv.QUOTE_ALL, escapechar='\\\\')  # Save the chunk to a new CSV file\n"
   ]
  },
  {
   "cell_type": "code",
   "execution_count": 19,
   "metadata": {},
   "outputs": [
    {
     "data": {
      "application/vnd.jupyter.widget-view+json": {
       "model_id": "d1e3bc8df36646b0992b5a39c0d7a6ea",
       "version_major": 2,
       "version_minor": 0
      },
      "text/plain": [
       "  0%|          | 0/97 [00:00<?, ?it/s]"
      ]
     },
     "metadata": {},
     "output_type": "display_data"
    },
    {
     "name": "stderr",
     "output_type": "stream",
     "text": [
      "/var/folders/fv/m61tb7rx6n5_86nwkz1zl_300000gn/T/ipykernel_30332/2805388866.py:19: DtypeWarning: Columns (0,4,5) have mixed types. Specify dtype option on import or set low_memory=False.\n",
      "  chunk_df = pd.read_csv(file_path, sep=',')\n",
      "/var/folders/fv/m61tb7rx6n5_86nwkz1zl_300000gn/T/ipykernel_30332/2805388866.py:19: DtypeWarning: Columns (0,4,5) have mixed types. Specify dtype option on import or set low_memory=False.\n",
      "  chunk_df = pd.read_csv(file_path, sep=',')\n",
      "/var/folders/fv/m61tb7rx6n5_86nwkz1zl_300000gn/T/ipykernel_30332/2805388866.py:19: DtypeWarning: Columns (0,4,5) have mixed types. Specify dtype option on import or set low_memory=False.\n",
      "  chunk_df = pd.read_csv(file_path, sep=',')\n",
      "/var/folders/fv/m61tb7rx6n5_86nwkz1zl_300000gn/T/ipykernel_30332/2805388866.py:19: DtypeWarning: Columns (0,4,5) have mixed types. Specify dtype option on import or set low_memory=False.\n",
      "  chunk_df = pd.read_csv(file_path, sep=',')\n",
      "/var/folders/fv/m61tb7rx6n5_86nwkz1zl_300000gn/T/ipykernel_30332/2805388866.py:19: DtypeWarning: Columns (0,4,5) have mixed types. Specify dtype option on import or set low_memory=False.\n",
      "  chunk_df = pd.read_csv(file_path, sep=',')\n",
      "/var/folders/fv/m61tb7rx6n5_86nwkz1zl_300000gn/T/ipykernel_30332/2805388866.py:19: DtypeWarning: Columns (0,4,5) have mixed types. Specify dtype option on import or set low_memory=False.\n",
      "  chunk_df = pd.read_csv(file_path, sep=',')\n",
      "/var/folders/fv/m61tb7rx6n5_86nwkz1zl_300000gn/T/ipykernel_30332/2805388866.py:19: DtypeWarning: Columns (0,4,5) have mixed types. Specify dtype option on import or set low_memory=False.\n",
      "  chunk_df = pd.read_csv(file_path, sep=',')\n",
      "/var/folders/fv/m61tb7rx6n5_86nwkz1zl_300000gn/T/ipykernel_30332/2805388866.py:19: DtypeWarning: Columns (0,4,5) have mixed types. Specify dtype option on import or set low_memory=False.\n",
      "  chunk_df = pd.read_csv(file_path, sep=',')\n",
      "/var/folders/fv/m61tb7rx6n5_86nwkz1zl_300000gn/T/ipykernel_30332/2805388866.py:19: DtypeWarning: Columns (0,4,5) have mixed types. Specify dtype option on import or set low_memory=False.\n",
      "  chunk_df = pd.read_csv(file_path, sep=',')\n",
      "/var/folders/fv/m61tb7rx6n5_86nwkz1zl_300000gn/T/ipykernel_30332/2805388866.py:19: DtypeWarning: Columns (0,4,5) have mixed types. Specify dtype option on import or set low_memory=False.\n",
      "  chunk_df = pd.read_csv(file_path, sep=',')\n",
      "/var/folders/fv/m61tb7rx6n5_86nwkz1zl_300000gn/T/ipykernel_30332/2805388866.py:19: DtypeWarning: Columns (0,4,5) have mixed types. Specify dtype option on import or set low_memory=False.\n",
      "  chunk_df = pd.read_csv(file_path, sep=',')\n",
      "/var/folders/fv/m61tb7rx6n5_86nwkz1zl_300000gn/T/ipykernel_30332/2805388866.py:19: DtypeWarning: Columns (0,4,5) have mixed types. Specify dtype option on import or set low_memory=False.\n",
      "  chunk_df = pd.read_csv(file_path, sep=',')\n",
      "/var/folders/fv/m61tb7rx6n5_86nwkz1zl_300000gn/T/ipykernel_30332/2805388866.py:19: DtypeWarning: Columns (0,4,5) have mixed types. Specify dtype option on import or set low_memory=False.\n",
      "  chunk_df = pd.read_csv(file_path, sep=',')\n",
      "/var/folders/fv/m61tb7rx6n5_86nwkz1zl_300000gn/T/ipykernel_30332/2805388866.py:19: DtypeWarning: Columns (0,4,5) have mixed types. Specify dtype option on import or set low_memory=False.\n",
      "  chunk_df = pd.read_csv(file_path, sep=',')\n",
      "/var/folders/fv/m61tb7rx6n5_86nwkz1zl_300000gn/T/ipykernel_30332/2805388866.py:19: DtypeWarning: Columns (0,4,5) have mixed types. Specify dtype option on import or set low_memory=False.\n",
      "  chunk_df = pd.read_csv(file_path, sep=',')\n",
      "/var/folders/fv/m61tb7rx6n5_86nwkz1zl_300000gn/T/ipykernel_30332/2805388866.py:19: DtypeWarning: Columns (0,4,5) have mixed types. Specify dtype option on import or set low_memory=False.\n",
      "  chunk_df = pd.read_csv(file_path, sep=',')\n",
      "/var/folders/fv/m61tb7rx6n5_86nwkz1zl_300000gn/T/ipykernel_30332/2805388866.py:19: DtypeWarning: Columns (0,4,5) have mixed types. Specify dtype option on import or set low_memory=False.\n",
      "  chunk_df = pd.read_csv(file_path, sep=',')\n",
      "/var/folders/fv/m61tb7rx6n5_86nwkz1zl_300000gn/T/ipykernel_30332/2805388866.py:19: DtypeWarning: Columns (0,4,5) have mixed types. Specify dtype option on import or set low_memory=False.\n",
      "  chunk_df = pd.read_csv(file_path, sep=',')\n",
      "/var/folders/fv/m61tb7rx6n5_86nwkz1zl_300000gn/T/ipykernel_30332/2805388866.py:19: DtypeWarning: Columns (0,4,5) have mixed types. Specify dtype option on import or set low_memory=False.\n",
      "  chunk_df = pd.read_csv(file_path, sep=',')\n",
      "/var/folders/fv/m61tb7rx6n5_86nwkz1zl_300000gn/T/ipykernel_30332/2805388866.py:19: DtypeWarning: Columns (0,4,5) have mixed types. Specify dtype option on import or set low_memory=False.\n",
      "  chunk_df = pd.read_csv(file_path, sep=',')\n",
      "/var/folders/fv/m61tb7rx6n5_86nwkz1zl_300000gn/T/ipykernel_30332/2805388866.py:19: DtypeWarning: Columns (0,4,5) have mixed types. Specify dtype option on import or set low_memory=False.\n",
      "  chunk_df = pd.read_csv(file_path, sep=',')\n",
      "/var/folders/fv/m61tb7rx6n5_86nwkz1zl_300000gn/T/ipykernel_30332/2805388866.py:19: DtypeWarning: Columns (0,4,5) have mixed types. Specify dtype option on import or set low_memory=False.\n",
      "  chunk_df = pd.read_csv(file_path, sep=',')\n",
      "/var/folders/fv/m61tb7rx6n5_86nwkz1zl_300000gn/T/ipykernel_30332/2805388866.py:19: DtypeWarning: Columns (0,4,5) have mixed types. Specify dtype option on import or set low_memory=False.\n",
      "  chunk_df = pd.read_csv(file_path, sep=',')\n",
      "/var/folders/fv/m61tb7rx6n5_86nwkz1zl_300000gn/T/ipykernel_30332/2805388866.py:19: DtypeWarning: Columns (0,4,5) have mixed types. Specify dtype option on import or set low_memory=False.\n",
      "  chunk_df = pd.read_csv(file_path, sep=',')\n",
      "/var/folders/fv/m61tb7rx6n5_86nwkz1zl_300000gn/T/ipykernel_30332/2805388866.py:19: DtypeWarning: Columns (0,4,5) have mixed types. Specify dtype option on import or set low_memory=False.\n",
      "  chunk_df = pd.read_csv(file_path, sep=',')\n",
      "/var/folders/fv/m61tb7rx6n5_86nwkz1zl_300000gn/T/ipykernel_30332/2805388866.py:19: DtypeWarning: Columns (0,4,5) have mixed types. Specify dtype option on import or set low_memory=False.\n",
      "  chunk_df = pd.read_csv(file_path, sep=',')\n",
      "/var/folders/fv/m61tb7rx6n5_86nwkz1zl_300000gn/T/ipykernel_30332/2805388866.py:19: DtypeWarning: Columns (0,4,5) have mixed types. Specify dtype option on import or set low_memory=False.\n",
      "  chunk_df = pd.read_csv(file_path, sep=',')\n",
      "/var/folders/fv/m61tb7rx6n5_86nwkz1zl_300000gn/T/ipykernel_30332/2805388866.py:19: DtypeWarning: Columns (0,4,5) have mixed types. Specify dtype option on import or set low_memory=False.\n",
      "  chunk_df = pd.read_csv(file_path, sep=',')\n",
      "/var/folders/fv/m61tb7rx6n5_86nwkz1zl_300000gn/T/ipykernel_30332/2805388866.py:19: DtypeWarning: Columns (0,4,5) have mixed types. Specify dtype option on import or set low_memory=False.\n",
      "  chunk_df = pd.read_csv(file_path, sep=',')\n",
      "/var/folders/fv/m61tb7rx6n5_86nwkz1zl_300000gn/T/ipykernel_30332/2805388866.py:19: DtypeWarning: Columns (0,4,5) have mixed types. Specify dtype option on import or set low_memory=False.\n",
      "  chunk_df = pd.read_csv(file_path, sep=',')\n",
      "/var/folders/fv/m61tb7rx6n5_86nwkz1zl_300000gn/T/ipykernel_30332/2805388866.py:19: DtypeWarning: Columns (0,4,5) have mixed types. Specify dtype option on import or set low_memory=False.\n",
      "  chunk_df = pd.read_csv(file_path, sep=',')\n",
      "/var/folders/fv/m61tb7rx6n5_86nwkz1zl_300000gn/T/ipykernel_30332/2805388866.py:19: DtypeWarning: Columns (0,4,5) have mixed types. Specify dtype option on import or set low_memory=False.\n",
      "  chunk_df = pd.read_csv(file_path, sep=',')\n",
      "/var/folders/fv/m61tb7rx6n5_86nwkz1zl_300000gn/T/ipykernel_30332/2805388866.py:19: DtypeWarning: Columns (0,4,5) have mixed types. Specify dtype option on import or set low_memory=False.\n",
      "  chunk_df = pd.read_csv(file_path, sep=',')\n",
      "/var/folders/fv/m61tb7rx6n5_86nwkz1zl_300000gn/T/ipykernel_30332/2805388866.py:19: DtypeWarning: Columns (0,4,5) have mixed types. Specify dtype option on import or set low_memory=False.\n",
      "  chunk_df = pd.read_csv(file_path, sep=',')\n",
      "/var/folders/fv/m61tb7rx6n5_86nwkz1zl_300000gn/T/ipykernel_30332/2805388866.py:19: DtypeWarning: Columns (0,4,5) have mixed types. Specify dtype option on import or set low_memory=False.\n",
      "  chunk_df = pd.read_csv(file_path, sep=',')\n",
      "/var/folders/fv/m61tb7rx6n5_86nwkz1zl_300000gn/T/ipykernel_30332/2805388866.py:19: DtypeWarning: Columns (0,4,5) have mixed types. Specify dtype option on import or set low_memory=False.\n",
      "  chunk_df = pd.read_csv(file_path, sep=',')\n",
      "/var/folders/fv/m61tb7rx6n5_86nwkz1zl_300000gn/T/ipykernel_30332/2805388866.py:19: DtypeWarning: Columns (0,4,5) have mixed types. Specify dtype option on import or set low_memory=False.\n",
      "  chunk_df = pd.read_csv(file_path, sep=',')\n",
      "/var/folders/fv/m61tb7rx6n5_86nwkz1zl_300000gn/T/ipykernel_30332/2805388866.py:19: DtypeWarning: Columns (0,4,5) have mixed types. Specify dtype option on import or set low_memory=False.\n",
      "  chunk_df = pd.read_csv(file_path, sep=',')\n",
      "/var/folders/fv/m61tb7rx6n5_86nwkz1zl_300000gn/T/ipykernel_30332/2805388866.py:19: DtypeWarning: Columns (0,4,5) have mixed types. Specify dtype option on import or set low_memory=False.\n",
      "  chunk_df = pd.read_csv(file_path, sep=',')\n",
      "/var/folders/fv/m61tb7rx6n5_86nwkz1zl_300000gn/T/ipykernel_30332/2805388866.py:19: DtypeWarning: Columns (0,4,5) have mixed types. Specify dtype option on import or set low_memory=False.\n",
      "  chunk_df = pd.read_csv(file_path, sep=',')\n",
      "/var/folders/fv/m61tb7rx6n5_86nwkz1zl_300000gn/T/ipykernel_30332/2805388866.py:19: DtypeWarning: Columns (0,4,5) have mixed types. Specify dtype option on import or set low_memory=False.\n",
      "  chunk_df = pd.read_csv(file_path, sep=',')\n",
      "/var/folders/fv/m61tb7rx6n5_86nwkz1zl_300000gn/T/ipykernel_30332/2805388866.py:19: DtypeWarning: Columns (0,4,5) have mixed types. Specify dtype option on import or set low_memory=False.\n",
      "  chunk_df = pd.read_csv(file_path, sep=',')\n",
      "/var/folders/fv/m61tb7rx6n5_86nwkz1zl_300000gn/T/ipykernel_30332/2805388866.py:19: DtypeWarning: Columns (0,4,5) have mixed types. Specify dtype option on import or set low_memory=False.\n",
      "  chunk_df = pd.read_csv(file_path, sep=',')\n",
      "/var/folders/fv/m61tb7rx6n5_86nwkz1zl_300000gn/T/ipykernel_30332/2805388866.py:19: DtypeWarning: Columns (0,4,5) have mixed types. Specify dtype option on import or set low_memory=False.\n",
      "  chunk_df = pd.read_csv(file_path, sep=',')\n",
      "/var/folders/fv/m61tb7rx6n5_86nwkz1zl_300000gn/T/ipykernel_30332/2805388866.py:19: DtypeWarning: Columns (0,4,5) have mixed types. Specify dtype option on import or set low_memory=False.\n",
      "  chunk_df = pd.read_csv(file_path, sep=',')\n",
      "/var/folders/fv/m61tb7rx6n5_86nwkz1zl_300000gn/T/ipykernel_30332/2805388866.py:19: DtypeWarning: Columns (0,4,5) have mixed types. Specify dtype option on import or set low_memory=False.\n",
      "  chunk_df = pd.read_csv(file_path, sep=',')\n",
      "/var/folders/fv/m61tb7rx6n5_86nwkz1zl_300000gn/T/ipykernel_30332/2805388866.py:19: DtypeWarning: Columns (0,4,5) have mixed types. Specify dtype option on import or set low_memory=False.\n",
      "  chunk_df = pd.read_csv(file_path, sep=',')\n",
      "/var/folders/fv/m61tb7rx6n5_86nwkz1zl_300000gn/T/ipykernel_30332/2805388866.py:19: DtypeWarning: Columns (0,4,5) have mixed types. Specify dtype option on import or set low_memory=False.\n",
      "  chunk_df = pd.read_csv(file_path, sep=',')\n",
      "/var/folders/fv/m61tb7rx6n5_86nwkz1zl_300000gn/T/ipykernel_30332/2805388866.py:19: DtypeWarning: Columns (0,4,5) have mixed types. Specify dtype option on import or set low_memory=False.\n",
      "  chunk_df = pd.read_csv(file_path, sep=',')\n",
      "/var/folders/fv/m61tb7rx6n5_86nwkz1zl_300000gn/T/ipykernel_30332/2805388866.py:19: DtypeWarning: Columns (0,4,5) have mixed types. Specify dtype option on import or set low_memory=False.\n",
      "  chunk_df = pd.read_csv(file_path, sep=',')\n",
      "/var/folders/fv/m61tb7rx6n5_86nwkz1zl_300000gn/T/ipykernel_30332/2805388866.py:19: DtypeWarning: Columns (0,4,5) have mixed types. Specify dtype option on import or set low_memory=False.\n",
      "  chunk_df = pd.read_csv(file_path, sep=',')\n",
      "/var/folders/fv/m61tb7rx6n5_86nwkz1zl_300000gn/T/ipykernel_30332/2805388866.py:19: DtypeWarning: Columns (0,4,5) have mixed types. Specify dtype option on import or set low_memory=False.\n",
      "  chunk_df = pd.read_csv(file_path, sep=',')\n",
      "/var/folders/fv/m61tb7rx6n5_86nwkz1zl_300000gn/T/ipykernel_30332/2805388866.py:19: DtypeWarning: Columns (0,4,5) have mixed types. Specify dtype option on import or set low_memory=False.\n",
      "  chunk_df = pd.read_csv(file_path, sep=',')\n",
      "/var/folders/fv/m61tb7rx6n5_86nwkz1zl_300000gn/T/ipykernel_30332/2805388866.py:19: DtypeWarning: Columns (0,4,5) have mixed types. Specify dtype option on import or set low_memory=False.\n",
      "  chunk_df = pd.read_csv(file_path, sep=',')\n",
      "/var/folders/fv/m61tb7rx6n5_86nwkz1zl_300000gn/T/ipykernel_30332/2805388866.py:19: DtypeWarning: Columns (0,4,5) have mixed types. Specify dtype option on import or set low_memory=False.\n",
      "  chunk_df = pd.read_csv(file_path, sep=',')\n",
      "/var/folders/fv/m61tb7rx6n5_86nwkz1zl_300000gn/T/ipykernel_30332/2805388866.py:19: DtypeWarning: Columns (0,4,5) have mixed types. Specify dtype option on import or set low_memory=False.\n",
      "  chunk_df = pd.read_csv(file_path, sep=',')\n",
      "/var/folders/fv/m61tb7rx6n5_86nwkz1zl_300000gn/T/ipykernel_30332/2805388866.py:19: DtypeWarning: Columns (0,4,5) have mixed types. Specify dtype option on import or set low_memory=False.\n",
      "  chunk_df = pd.read_csv(file_path, sep=',')\n",
      "/var/folders/fv/m61tb7rx6n5_86nwkz1zl_300000gn/T/ipykernel_30332/2805388866.py:19: DtypeWarning: Columns (0,4,5) have mixed types. Specify dtype option on import or set low_memory=False.\n",
      "  chunk_df = pd.read_csv(file_path, sep=',')\n",
      "/var/folders/fv/m61tb7rx6n5_86nwkz1zl_300000gn/T/ipykernel_30332/2805388866.py:19: DtypeWarning: Columns (0,4,5) have mixed types. Specify dtype option on import or set low_memory=False.\n",
      "  chunk_df = pd.read_csv(file_path, sep=',')\n",
      "/var/folders/fv/m61tb7rx6n5_86nwkz1zl_300000gn/T/ipykernel_30332/2805388866.py:19: DtypeWarning: Columns (0,4,5) have mixed types. Specify dtype option on import or set low_memory=False.\n",
      "  chunk_df = pd.read_csv(file_path, sep=',')\n",
      "/var/folders/fv/m61tb7rx6n5_86nwkz1zl_300000gn/T/ipykernel_30332/2805388866.py:19: DtypeWarning: Columns (0,4,5) have mixed types. Specify dtype option on import or set low_memory=False.\n",
      "  chunk_df = pd.read_csv(file_path, sep=',')\n",
      "/var/folders/fv/m61tb7rx6n5_86nwkz1zl_300000gn/T/ipykernel_30332/2805388866.py:19: DtypeWarning: Columns (0,4,5) have mixed types. Specify dtype option on import or set low_memory=False.\n",
      "  chunk_df = pd.read_csv(file_path, sep=',')\n",
      "/var/folders/fv/m61tb7rx6n5_86nwkz1zl_300000gn/T/ipykernel_30332/2805388866.py:19: DtypeWarning: Columns (0,4,5) have mixed types. Specify dtype option on import or set low_memory=False.\n",
      "  chunk_df = pd.read_csv(file_path, sep=',')\n",
      "/var/folders/fv/m61tb7rx6n5_86nwkz1zl_300000gn/T/ipykernel_30332/2805388866.py:19: DtypeWarning: Columns (0,4,5) have mixed types. Specify dtype option on import or set low_memory=False.\n",
      "  chunk_df = pd.read_csv(file_path, sep=',')\n",
      "/var/folders/fv/m61tb7rx6n5_86nwkz1zl_300000gn/T/ipykernel_30332/2805388866.py:19: DtypeWarning: Columns (0,4,5) have mixed types. Specify dtype option on import or set low_memory=False.\n",
      "  chunk_df = pd.read_csv(file_path, sep=',')\n",
      "/var/folders/fv/m61tb7rx6n5_86nwkz1zl_300000gn/T/ipykernel_30332/2805388866.py:19: DtypeWarning: Columns (0,4,5) have mixed types. Specify dtype option on import or set low_memory=False.\n",
      "  chunk_df = pd.read_csv(file_path, sep=',')\n",
      "/var/folders/fv/m61tb7rx6n5_86nwkz1zl_300000gn/T/ipykernel_30332/2805388866.py:19: DtypeWarning: Columns (0,4,5) have mixed types. Specify dtype option on import or set low_memory=False.\n",
      "  chunk_df = pd.read_csv(file_path, sep=',')\n",
      "/var/folders/fv/m61tb7rx6n5_86nwkz1zl_300000gn/T/ipykernel_30332/2805388866.py:19: DtypeWarning: Columns (0,4,5) have mixed types. Specify dtype option on import or set low_memory=False.\n",
      "  chunk_df = pd.read_csv(file_path, sep=',')\n",
      "/var/folders/fv/m61tb7rx6n5_86nwkz1zl_300000gn/T/ipykernel_30332/2805388866.py:19: DtypeWarning: Columns (0,4,5) have mixed types. Specify dtype option on import or set low_memory=False.\n",
      "  chunk_df = pd.read_csv(file_path, sep=',')\n",
      "/var/folders/fv/m61tb7rx6n5_86nwkz1zl_300000gn/T/ipykernel_30332/2805388866.py:19: DtypeWarning: Columns (0,4,5) have mixed types. Specify dtype option on import or set low_memory=False.\n",
      "  chunk_df = pd.read_csv(file_path, sep=',')\n",
      "/var/folders/fv/m61tb7rx6n5_86nwkz1zl_300000gn/T/ipykernel_30332/2805388866.py:19: DtypeWarning: Columns (0,4,5) have mixed types. Specify dtype option on import or set low_memory=False.\n",
      "  chunk_df = pd.read_csv(file_path, sep=',')\n",
      "/var/folders/fv/m61tb7rx6n5_86nwkz1zl_300000gn/T/ipykernel_30332/2805388866.py:19: DtypeWarning: Columns (0,4,5) have mixed types. Specify dtype option on import or set low_memory=False.\n",
      "  chunk_df = pd.read_csv(file_path, sep=',')\n",
      "/var/folders/fv/m61tb7rx6n5_86nwkz1zl_300000gn/T/ipykernel_30332/2805388866.py:19: DtypeWarning: Columns (0,4,5) have mixed types. Specify dtype option on import or set low_memory=False.\n",
      "  chunk_df = pd.read_csv(file_path, sep=',')\n",
      "/var/folders/fv/m61tb7rx6n5_86nwkz1zl_300000gn/T/ipykernel_30332/2805388866.py:19: DtypeWarning: Columns (0,4,5) have mixed types. Specify dtype option on import or set low_memory=False.\n",
      "  chunk_df = pd.read_csv(file_path, sep=',')\n",
      "/var/folders/fv/m61tb7rx6n5_86nwkz1zl_300000gn/T/ipykernel_30332/2805388866.py:19: DtypeWarning: Columns (0,4,5) have mixed types. Specify dtype option on import or set low_memory=False.\n",
      "  chunk_df = pd.read_csv(file_path, sep=',')\n",
      "/var/folders/fv/m61tb7rx6n5_86nwkz1zl_300000gn/T/ipykernel_30332/2805388866.py:19: DtypeWarning: Columns (0,4,5) have mixed types. Specify dtype option on import or set low_memory=False.\n",
      "  chunk_df = pd.read_csv(file_path, sep=',')\n",
      "/var/folders/fv/m61tb7rx6n5_86nwkz1zl_300000gn/T/ipykernel_30332/2805388866.py:19: DtypeWarning: Columns (0,4,5) have mixed types. Specify dtype option on import or set low_memory=False.\n",
      "  chunk_df = pd.read_csv(file_path, sep=',')\n",
      "/var/folders/fv/m61tb7rx6n5_86nwkz1zl_300000gn/T/ipykernel_30332/2805388866.py:19: DtypeWarning: Columns (0,4,5) have mixed types. Specify dtype option on import or set low_memory=False.\n",
      "  chunk_df = pd.read_csv(file_path, sep=',')\n",
      "/var/folders/fv/m61tb7rx6n5_86nwkz1zl_300000gn/T/ipykernel_30332/2805388866.py:19: DtypeWarning: Columns (0,4,5) have mixed types. Specify dtype option on import or set low_memory=False.\n",
      "  chunk_df = pd.read_csv(file_path, sep=',')\n",
      "/var/folders/fv/m61tb7rx6n5_86nwkz1zl_300000gn/T/ipykernel_30332/2805388866.py:19: DtypeWarning: Columns (0,4,5) have mixed types. Specify dtype option on import or set low_memory=False.\n",
      "  chunk_df = pd.read_csv(file_path, sep=',')\n",
      "/var/folders/fv/m61tb7rx6n5_86nwkz1zl_300000gn/T/ipykernel_30332/2805388866.py:19: DtypeWarning: Columns (0,4,5) have mixed types. Specify dtype option on import or set low_memory=False.\n",
      "  chunk_df = pd.read_csv(file_path, sep=',')\n",
      "/var/folders/fv/m61tb7rx6n5_86nwkz1zl_300000gn/T/ipykernel_30332/2805388866.py:19: DtypeWarning: Columns (0,4,5) have mixed types. Specify dtype option on import or set low_memory=False.\n",
      "  chunk_df = pd.read_csv(file_path, sep=',')\n",
      "/var/folders/fv/m61tb7rx6n5_86nwkz1zl_300000gn/T/ipykernel_30332/2805388866.py:19: DtypeWarning: Columns (0,4,5) have mixed types. Specify dtype option on import or set low_memory=False.\n",
      "  chunk_df = pd.read_csv(file_path, sep=',')\n",
      "/var/folders/fv/m61tb7rx6n5_86nwkz1zl_300000gn/T/ipykernel_30332/2805388866.py:19: DtypeWarning: Columns (0,4,5) have mixed types. Specify dtype option on import or set low_memory=False.\n",
      "  chunk_df = pd.read_csv(file_path, sep=',')\n",
      "/var/folders/fv/m61tb7rx6n5_86nwkz1zl_300000gn/T/ipykernel_30332/2805388866.py:19: DtypeWarning: Columns (0,4,5) have mixed types. Specify dtype option on import or set low_memory=False.\n",
      "  chunk_df = pd.read_csv(file_path, sep=',')\n",
      "/var/folders/fv/m61tb7rx6n5_86nwkz1zl_300000gn/T/ipykernel_30332/2805388866.py:19: DtypeWarning: Columns (0,4,5) have mixed types. Specify dtype option on import or set low_memory=False.\n",
      "  chunk_df = pd.read_csv(file_path, sep=',')\n",
      "/var/folders/fv/m61tb7rx6n5_86nwkz1zl_300000gn/T/ipykernel_30332/2805388866.py:19: DtypeWarning: Columns (0,4,5) have mixed types. Specify dtype option on import or set low_memory=False.\n",
      "  chunk_df = pd.read_csv(file_path, sep=',')\n",
      "/var/folders/fv/m61tb7rx6n5_86nwkz1zl_300000gn/T/ipykernel_30332/2805388866.py:19: DtypeWarning: Columns (0,4,5) have mixed types. Specify dtype option on import or set low_memory=False.\n",
      "  chunk_df = pd.read_csv(file_path, sep=',')\n",
      "/var/folders/fv/m61tb7rx6n5_86nwkz1zl_300000gn/T/ipykernel_30332/2805388866.py:19: DtypeWarning: Columns (0,4,5) have mixed types. Specify dtype option on import or set low_memory=False.\n",
      "  chunk_df = pd.read_csv(file_path, sep=',')\n",
      "/var/folders/fv/m61tb7rx6n5_86nwkz1zl_300000gn/T/ipykernel_30332/2805388866.py:19: DtypeWarning: Columns (0,4,5) have mixed types. Specify dtype option on import or set low_memory=False.\n",
      "  chunk_df = pd.read_csv(file_path, sep=',')\n",
      "/var/folders/fv/m61tb7rx6n5_86nwkz1zl_300000gn/T/ipykernel_30332/2805388866.py:19: DtypeWarning: Columns (0,4,5) have mixed types. Specify dtype option on import or set low_memory=False.\n",
      "  chunk_df = pd.read_csv(file_path, sep=',')\n",
      "/var/folders/fv/m61tb7rx6n5_86nwkz1zl_300000gn/T/ipykernel_30332/2805388866.py:19: DtypeWarning: Columns (0,4,5) have mixed types. Specify dtype option on import or set low_memory=False.\n",
      "  chunk_df = pd.read_csv(file_path, sep=',')\n",
      "/var/folders/fv/m61tb7rx6n5_86nwkz1zl_300000gn/T/ipykernel_30332/2805388866.py:19: DtypeWarning: Columns (0,4,5) have mixed types. Specify dtype option on import or set low_memory=False.\n",
      "  chunk_df = pd.read_csv(file_path, sep=',')\n",
      "/var/folders/fv/m61tb7rx6n5_86nwkz1zl_300000gn/T/ipykernel_30332/2805388866.py:19: DtypeWarning: Columns (0,4,5) have mixed types. Specify dtype option on import or set low_memory=False.\n",
      "  chunk_df = pd.read_csv(file_path, sep=',')\n",
      "/var/folders/fv/m61tb7rx6n5_86nwkz1zl_300000gn/T/ipykernel_30332/2805388866.py:19: DtypeWarning: Columns (0,4,5) have mixed types. Specify dtype option on import or set low_memory=False.\n",
      "  chunk_df = pd.read_csv(file_path, sep=',')\n",
      "/var/folders/fv/m61tb7rx6n5_86nwkz1zl_300000gn/T/ipykernel_30332/2805388866.py:19: DtypeWarning: Columns (0,4,5) have mixed types. Specify dtype option on import or set low_memory=False.\n",
      "  chunk_df = pd.read_csv(file_path, sep=',')\n",
      "/var/folders/fv/m61tb7rx6n5_86nwkz1zl_300000gn/T/ipykernel_30332/2805388866.py:19: DtypeWarning: Columns (0,4,5) have mixed types. Specify dtype option on import or set low_memory=False.\n",
      "  chunk_df = pd.read_csv(file_path, sep=',')\n"
     ]
    }
   ],
   "source": [
    "import os\n",
    "import pandas as pd\n",
    "\n",
    "# Specify your directory containing CSV chunks\n",
    "directory = '/Volumes/Drakôn Kholkikos - 2TB/Tesis-Grado/output/reddit_output/filtered_tables_LIWC_count/comments'\n",
    "\n",
    "# Get a list of all files in the directory\n",
    "files = os.listdir(directory)\n",
    "\n",
    "# Filter for CSV files\n",
    "csv_files = [file for file in files if file.endswith('.csv')]\n",
    "\n",
    "# Initialize an empty DataFrame to store the merged data\n",
    "merged_df = pd.DataFrame()\n",
    "\n",
    "# Iterate through CSV files and merge them\n",
    "for csv_file in tqdm(csv_files):\n",
    "    file_path = os.path.join(directory, csv_file)\n",
    "    chunk_df = pd.read_csv(file_path, sep=',')\n",
    "    merged_df = pd.concat([merged_df, chunk_df], ignore_index=True)\n",
    "\n",
    "# Save the merged DataFrame to a new CSV file\n",
    "merged_df.to_csv('/Volumes/Drakôn Kholkikos - 2TB/Tesis-Grado/output/reddit_output/filtered_tables_LIWC_count/merged.csv', index=False)\n"
   ]
  },
  {
   "cell_type": "code",
   "execution_count": 21,
   "metadata": {},
   "outputs": [],
   "source": [
    "LIWC_keys = list(\n",
    "  merged_df.columns[\n",
    "    list(merged_df.columns).index('permalink') + 1 #Gets the last column before LIWC count\n",
    "    :  ]\n",
    "  )\n"
   ]
  },
  {
   "cell_type": "code",
   "execution_count": 23,
   "metadata": {},
   "outputs": [],
   "source": [
    "for key in LIWC_keys:\n",
    "    merged_df[key] = pd.to_numeric(merged_df[key], errors='coerce')"
   ]
  },
  {
   "cell_type": "code",
   "execution_count": 24,
   "metadata": {},
   "outputs": [],
   "source": [
    "result_df = merged_df.groupby(['year', 'month', 'day'])[LIWC_keys].mean().reset_index()"
   ]
  },
  {
   "cell_type": "code",
   "execution_count": 25,
   "metadata": {},
   "outputs": [],
   "source": [
    "# Calculate the count of rows for each date\n",
    "count_df = merged_df.groupby(['year', 'month', 'day'])['id'].count().reset_index()\n",
    "count_df.rename(columns={'id': 'Obs'}, inplace=True)"
   ]
  },
  {
   "cell_type": "code",
   "execution_count": 26,
   "metadata": {},
   "outputs": [],
   "source": [
    "# Merge the average data with the count data\n",
    "result_df = pd.merge(result_df, count_df, on=['year', 'month', 'day'])\n"
   ]
  },
  {
   "cell_type": "code",
   "execution_count": 27,
   "metadata": {},
   "outputs": [
    {
     "data": {
      "text/html": [
       "<div>\n",
       "<style scoped>\n",
       "    .dataframe tbody tr th:only-of-type {\n",
       "        vertical-align: middle;\n",
       "    }\n",
       "\n",
       "    .dataframe tbody tr th {\n",
       "        vertical-align: top;\n",
       "    }\n",
       "\n",
       "    .dataframe thead th {\n",
       "        text-align: right;\n",
       "    }\n",
       "</style>\n",
       "<table border=\"1\" class=\"dataframe\">\n",
       "  <thead>\n",
       "    <tr style=\"text-align: right;\">\n",
       "      <th></th>\n",
       "      <th>year</th>\n",
       "      <th>month</th>\n",
       "      <th>day</th>\n",
       "      <th>WC</th>\n",
       "      <th>Funct</th>\n",
       "      <th>TotPron</th>\n",
       "      <th>PronPer</th>\n",
       "      <th>Yo</th>\n",
       "      <th>Nosotro</th>\n",
       "      <th>TuUtd</th>\n",
       "      <th>...</th>\n",
       "      <th>Logro</th>\n",
       "      <th>Placer</th>\n",
       "      <th>Hogar</th>\n",
       "      <th>Dinero</th>\n",
       "      <th>Relig</th>\n",
       "      <th>Muerte</th>\n",
       "      <th>Asentir</th>\n",
       "      <th>NoFluen</th>\n",
       "      <th>Relleno</th>\n",
       "      <th>Obs</th>\n",
       "    </tr>\n",
       "  </thead>\n",
       "  <tbody>\n",
       "    <tr>\n",
       "      <th>0</th>\n",
       "      <td>2017.0</td>\n",
       "      <td>12.0</td>\n",
       "      <td>31.0</td>\n",
       "      <td>NaN</td>\n",
       "      <td>NaN</td>\n",
       "      <td>NaN</td>\n",
       "      <td>NaN</td>\n",
       "      <td>NaN</td>\n",
       "      <td>NaN</td>\n",
       "      <td>NaN</td>\n",
       "      <td>...</td>\n",
       "      <td>NaN</td>\n",
       "      <td>NaN</td>\n",
       "      <td>NaN</td>\n",
       "      <td>NaN</td>\n",
       "      <td>NaN</td>\n",
       "      <td>NaN</td>\n",
       "      <td>NaN</td>\n",
       "      <td>NaN</td>\n",
       "      <td>NaN</td>\n",
       "      <td>167</td>\n",
       "    </tr>\n",
       "    <tr>\n",
       "      <th>1</th>\n",
       "      <td>2018.0</td>\n",
       "      <td>1.0</td>\n",
       "      <td>1.0</td>\n",
       "      <td>NaN</td>\n",
       "      <td>NaN</td>\n",
       "      <td>NaN</td>\n",
       "      <td>NaN</td>\n",
       "      <td>NaN</td>\n",
       "      <td>NaN</td>\n",
       "      <td>NaN</td>\n",
       "      <td>...</td>\n",
       "      <td>NaN</td>\n",
       "      <td>NaN</td>\n",
       "      <td>NaN</td>\n",
       "      <td>NaN</td>\n",
       "      <td>NaN</td>\n",
       "      <td>NaN</td>\n",
       "      <td>NaN</td>\n",
       "      <td>NaN</td>\n",
       "      <td>NaN</td>\n",
       "      <td>932</td>\n",
       "    </tr>\n",
       "    <tr>\n",
       "      <th>2</th>\n",
       "      <td>2018.0</td>\n",
       "      <td>1.0</td>\n",
       "      <td>2.0</td>\n",
       "      <td>NaN</td>\n",
       "      <td>NaN</td>\n",
       "      <td>NaN</td>\n",
       "      <td>NaN</td>\n",
       "      <td>NaN</td>\n",
       "      <td>NaN</td>\n",
       "      <td>NaN</td>\n",
       "      <td>...</td>\n",
       "      <td>NaN</td>\n",
       "      <td>NaN</td>\n",
       "      <td>NaN</td>\n",
       "      <td>NaN</td>\n",
       "      <td>NaN</td>\n",
       "      <td>NaN</td>\n",
       "      <td>NaN</td>\n",
       "      <td>NaN</td>\n",
       "      <td>NaN</td>\n",
       "      <td>2694</td>\n",
       "    </tr>\n",
       "    <tr>\n",
       "      <th>3</th>\n",
       "      <td>2018.0</td>\n",
       "      <td>1.0</td>\n",
       "      <td>3.0</td>\n",
       "      <td>NaN</td>\n",
       "      <td>NaN</td>\n",
       "      <td>NaN</td>\n",
       "      <td>NaN</td>\n",
       "      <td>NaN</td>\n",
       "      <td>NaN</td>\n",
       "      <td>NaN</td>\n",
       "      <td>...</td>\n",
       "      <td>NaN</td>\n",
       "      <td>NaN</td>\n",
       "      <td>NaN</td>\n",
       "      <td>NaN</td>\n",
       "      <td>NaN</td>\n",
       "      <td>NaN</td>\n",
       "      <td>NaN</td>\n",
       "      <td>NaN</td>\n",
       "      <td>NaN</td>\n",
       "      <td>2615</td>\n",
       "    </tr>\n",
       "    <tr>\n",
       "      <th>4</th>\n",
       "      <td>2018.0</td>\n",
       "      <td>1.0</td>\n",
       "      <td>4.0</td>\n",
       "      <td>NaN</td>\n",
       "      <td>NaN</td>\n",
       "      <td>NaN</td>\n",
       "      <td>NaN</td>\n",
       "      <td>NaN</td>\n",
       "      <td>NaN</td>\n",
       "      <td>NaN</td>\n",
       "      <td>...</td>\n",
       "      <td>NaN</td>\n",
       "      <td>NaN</td>\n",
       "      <td>NaN</td>\n",
       "      <td>NaN</td>\n",
       "      <td>NaN</td>\n",
       "      <td>NaN</td>\n",
       "      <td>NaN</td>\n",
       "      <td>NaN</td>\n",
       "      <td>NaN</td>\n",
       "      <td>2661</td>\n",
       "    </tr>\n",
       "    <tr>\n",
       "      <th>5</th>\n",
       "      <td>2018.0</td>\n",
       "      <td>1.0</td>\n",
       "      <td>5.0</td>\n",
       "      <td>NaN</td>\n",
       "      <td>NaN</td>\n",
       "      <td>NaN</td>\n",
       "      <td>NaN</td>\n",
       "      <td>NaN</td>\n",
       "      <td>NaN</td>\n",
       "      <td>NaN</td>\n",
       "      <td>...</td>\n",
       "      <td>NaN</td>\n",
       "      <td>NaN</td>\n",
       "      <td>NaN</td>\n",
       "      <td>NaN</td>\n",
       "      <td>NaN</td>\n",
       "      <td>NaN</td>\n",
       "      <td>NaN</td>\n",
       "      <td>NaN</td>\n",
       "      <td>NaN</td>\n",
       "      <td>2637</td>\n",
       "    </tr>\n",
       "    <tr>\n",
       "      <th>6</th>\n",
       "      <td>2018.0</td>\n",
       "      <td>1.0</td>\n",
       "      <td>6.0</td>\n",
       "      <td>NaN</td>\n",
       "      <td>NaN</td>\n",
       "      <td>NaN</td>\n",
       "      <td>NaN</td>\n",
       "      <td>NaN</td>\n",
       "      <td>NaN</td>\n",
       "      <td>NaN</td>\n",
       "      <td>...</td>\n",
       "      <td>NaN</td>\n",
       "      <td>NaN</td>\n",
       "      <td>NaN</td>\n",
       "      <td>NaN</td>\n",
       "      <td>NaN</td>\n",
       "      <td>NaN</td>\n",
       "      <td>NaN</td>\n",
       "      <td>NaN</td>\n",
       "      <td>NaN</td>\n",
       "      <td>1817</td>\n",
       "    </tr>\n",
       "    <tr>\n",
       "      <th>7</th>\n",
       "      <td>2018.0</td>\n",
       "      <td>1.0</td>\n",
       "      <td>7.0</td>\n",
       "      <td>NaN</td>\n",
       "      <td>NaN</td>\n",
       "      <td>NaN</td>\n",
       "      <td>NaN</td>\n",
       "      <td>NaN</td>\n",
       "      <td>NaN</td>\n",
       "      <td>NaN</td>\n",
       "      <td>...</td>\n",
       "      <td>NaN</td>\n",
       "      <td>NaN</td>\n",
       "      <td>NaN</td>\n",
       "      <td>NaN</td>\n",
       "      <td>NaN</td>\n",
       "      <td>NaN</td>\n",
       "      <td>NaN</td>\n",
       "      <td>NaN</td>\n",
       "      <td>NaN</td>\n",
       "      <td>1978</td>\n",
       "    </tr>\n",
       "    <tr>\n",
       "      <th>8</th>\n",
       "      <td>2018.0</td>\n",
       "      <td>1.0</td>\n",
       "      <td>8.0</td>\n",
       "      <td>NaN</td>\n",
       "      <td>NaN</td>\n",
       "      <td>NaN</td>\n",
       "      <td>NaN</td>\n",
       "      <td>NaN</td>\n",
       "      <td>NaN</td>\n",
       "      <td>NaN</td>\n",
       "      <td>...</td>\n",
       "      <td>NaN</td>\n",
       "      <td>NaN</td>\n",
       "      <td>NaN</td>\n",
       "      <td>NaN</td>\n",
       "      <td>NaN</td>\n",
       "      <td>NaN</td>\n",
       "      <td>NaN</td>\n",
       "      <td>NaN</td>\n",
       "      <td>NaN</td>\n",
       "      <td>3113</td>\n",
       "    </tr>\n",
       "    <tr>\n",
       "      <th>9</th>\n",
       "      <td>2018.0</td>\n",
       "      <td>1.0</td>\n",
       "      <td>9.0</td>\n",
       "      <td>NaN</td>\n",
       "      <td>NaN</td>\n",
       "      <td>NaN</td>\n",
       "      <td>NaN</td>\n",
       "      <td>NaN</td>\n",
       "      <td>NaN</td>\n",
       "      <td>NaN</td>\n",
       "      <td>...</td>\n",
       "      <td>NaN</td>\n",
       "      <td>NaN</td>\n",
       "      <td>NaN</td>\n",
       "      <td>NaN</td>\n",
       "      <td>NaN</td>\n",
       "      <td>NaN</td>\n",
       "      <td>NaN</td>\n",
       "      <td>NaN</td>\n",
       "      <td>NaN</td>\n",
       "      <td>3381</td>\n",
       "    </tr>\n",
       "  </tbody>\n",
       "</table>\n",
       "<p>10 rows × 79 columns</p>\n",
       "</div>"
      ],
      "text/plain": [
       "     year  month   day  WC  Funct  TotPron  PronPer  Yo  Nosotro  TuUtd  ...  \\\n",
       "0  2017.0   12.0  31.0 NaN    NaN      NaN      NaN NaN      NaN    NaN  ...   \n",
       "1  2018.0    1.0   1.0 NaN    NaN      NaN      NaN NaN      NaN    NaN  ...   \n",
       "2  2018.0    1.0   2.0 NaN    NaN      NaN      NaN NaN      NaN    NaN  ...   \n",
       "3  2018.0    1.0   3.0 NaN    NaN      NaN      NaN NaN      NaN    NaN  ...   \n",
       "4  2018.0    1.0   4.0 NaN    NaN      NaN      NaN NaN      NaN    NaN  ...   \n",
       "5  2018.0    1.0   5.0 NaN    NaN      NaN      NaN NaN      NaN    NaN  ...   \n",
       "6  2018.0    1.0   6.0 NaN    NaN      NaN      NaN NaN      NaN    NaN  ...   \n",
       "7  2018.0    1.0   7.0 NaN    NaN      NaN      NaN NaN      NaN    NaN  ...   \n",
       "8  2018.0    1.0   8.0 NaN    NaN      NaN      NaN NaN      NaN    NaN  ...   \n",
       "9  2018.0    1.0   9.0 NaN    NaN      NaN      NaN NaN      NaN    NaN  ...   \n",
       "\n",
       "   Logro  Placer  Hogar  Dinero  Relig  Muerte  Asentir  NoFluen  Relleno  \\\n",
       "0    NaN     NaN    NaN     NaN    NaN     NaN      NaN      NaN      NaN   \n",
       "1    NaN     NaN    NaN     NaN    NaN     NaN      NaN      NaN      NaN   \n",
       "2    NaN     NaN    NaN     NaN    NaN     NaN      NaN      NaN      NaN   \n",
       "3    NaN     NaN    NaN     NaN    NaN     NaN      NaN      NaN      NaN   \n",
       "4    NaN     NaN    NaN     NaN    NaN     NaN      NaN      NaN      NaN   \n",
       "5    NaN     NaN    NaN     NaN    NaN     NaN      NaN      NaN      NaN   \n",
       "6    NaN     NaN    NaN     NaN    NaN     NaN      NaN      NaN      NaN   \n",
       "7    NaN     NaN    NaN     NaN    NaN     NaN      NaN      NaN      NaN   \n",
       "8    NaN     NaN    NaN     NaN    NaN     NaN      NaN      NaN      NaN   \n",
       "9    NaN     NaN    NaN     NaN    NaN     NaN      NaN      NaN      NaN   \n",
       "\n",
       "    Obs  \n",
       "0   167  \n",
       "1   932  \n",
       "2  2694  \n",
       "3  2615  \n",
       "4  2661  \n",
       "5  2637  \n",
       "6  1817  \n",
       "7  1978  \n",
       "8  3113  \n",
       "9  3381  \n",
       "\n",
       "[10 rows x 79 columns]"
      ]
     },
     "execution_count": 27,
     "metadata": {},
     "output_type": "execute_result"
    }
   ],
   "source": [
    "result_df.head(10)"
   ]
  },
  {
   "cell_type": "code",
   "execution_count": null,
   "metadata": {},
   "outputs": [],
   "source": [
    "\n",
    "# Save the results to a new DataFrame\n",
    "# result_df.to_csv('averages_by_date_with_count.csv', index=False)\n",
    "result_df.to_csv('comments_liwc_average.csv', index=False, sep=',', quoting=csv.QUOTE_ALL, escapechar='\\\\')"
   ]
  },
  {
   "cell_type": "code",
   "execution_count": null,
   "metadata": {},
   "outputs": [],
   "source": [
    "# Calculate the count of rows for each date\n",
    "count_df = merged_df.groupby(['year', 'month', 'day'])['id'].count().reset_index()\n",
    "count_df.rename(columns={'id': 'Obs'}, inplace=True)\n",
    "\n",
    "# Merge the average data with the count data\n",
    "result_df = pd.merge(result_df, count_df, on=['year', 'month', 'day'])\n",
    "\n",
    "# Save the results to a new DataFrame\n",
    "# result_df.to_csv('averages_by_date_with_count.csv', index=False)\n",
    "result_df.to_csv('comments_liwc_average.csv', index=False, sep=',', quoting=csv.QUOTE_ALL, escapechar='\\\\')"
   ]
  },
  {
   "cell_type": "markdown",
   "metadata": {},
   "source": [
    "## v2"
   ]
  },
  {
   "cell_type": "code",
   "execution_count": 5,
   "metadata": {},
   "outputs": [],
   "source": [
    "import pandas as pd\n",
    "import dask.dataframe as dd\n",
    "from dask.delayed import delayed\n",
    "import ast\n"
   ]
  },
  {
   "cell_type": "code",
   "execution_count": 6,
   "metadata": {},
   "outputs": [],
   "source": [
    "# Load the preprocessed LIWC results from 'tmp-liwc.csv'\n",
    "liwc_df = pd.read_csv('liwc-tmp.csv', sep=',', quoting=csv.QUOTE_ALL, escapechar='\\\\')"
   ]
  },
  {
   "cell_type": "code",
   "execution_count": 7,
   "metadata": {},
   "outputs": [],
   "source": [
    "def remove_invalids(col='', df=''):\n",
    "  invalid_options = [np.nan, 'nan', None, 0, '0', 'NaN', '[deleted]', '[removed]']\n",
    "  df = df.dropna(subset=[col], how='all')\n",
    "  df = df[~df[col].isin(invalid_options)]\n",
    "  return df\n",
    "\n",
    "# for source in reddit_files_titles:\n",
    "source = 'argentina_comments'\n",
    "source_dir = f'../output/reddit_output/{source}-output_table.csv'\n",
    "source_output_dir = f'../output/reddit_output/filtered_tables_LIWC_count/{source}-liwc_output.csv'"
   ]
  },
  {
   "cell_type": "code",
   "execution_count": 8,
   "metadata": {},
   "outputs": [],
   "source": [
    "df_output_table = pd.read_csv(source_dir, sep=',')\n",
    "\n",
    "df_output_table = remove_invalids('text', df_output_table)\n",
    "\n",
    "if 'title' in df_output_table.columns:  # if it's a submission (has title)\n",
    "    # Remove invalid/incomplete observations\n",
    "    df_output_table = remove_invalids('title', df_output_table)\n",
    "    # Join title and text (fillna just in case something passed previous cleanup)\n",
    "    df_output_table['text'] = df_output_table['title'].fillna('') + '\\n' + df_output_table['text'].fillna('')\n",
    "    # Now drop it\n",
    "    df_output_table = df_output_table.drop(columns=['title'])\n"
   ]
  },
  {
   "cell_type": "code",
   "execution_count": 9,
   "metadata": {},
   "outputs": [],
   "source": [
    "# Use Dask for the LIWC counts conversion\n",
    "liwc_ddf = dd.from_pandas(liwc_df, npartitions=8)  # Adjust the number of partitions as needed\n",
    "\n",
    "@delayed\n",
    "def convert_to_dict(s):\n",
    "    return ast.literal_eval(s)\n",
    "\n",
    "liwc_ddf['text'] = liwc_ddf['text'].map(convert_to_dict, meta=('text', object)).compute()\n"
   ]
  },
  {
   "cell_type": "code",
   "execution_count": 11,
   "metadata": {},
   "outputs": [
    {
     "ename": "",
     "evalue": "",
     "output_type": "error",
     "traceback": [
      "\u001b[1;31mThe Kernel crashed while executing code in the the current cell or a previous cell. Please review the code in the cell(s) to identify a possible cause of the failure. Click <a href='https://aka.ms/vscodeJupyterKernelCrash'>here</a> for more info. View Jupyter <a href='command:jupyter.viewOutput'>log</a> for further details."
     ]
    }
   ],
   "source": [
    "import dask.dataframe as dd\n",
    "\n",
    "# Merge the Dask DataFrames\n",
    "df_merge = dd.merge(df_output_table, liwc_ddf, on='text')\n"
   ]
  },
  {
   "cell_type": "code",
   "execution_count": null,
   "metadata": {},
   "outputs": [],
   "source": [
    "\n",
    "# Save the merged DataFrame\n",
    "df_merge.to_csv(source_output_dir, index=False, sep=',', quoting=csv.QUOTE_ALL, escapechar='\\\\')\n"
   ]
  },
  {
   "cell_type": "markdown",
   "metadata": {},
   "source": [
    "## v1"
   ]
  },
  {
   "cell_type": "code",
   "execution_count": null,
   "metadata": {},
   "outputs": [],
   "source": [
    "import pandas as pd\n",
    "import json\n",
    "\n",
    "# Load the preprocessed LIWC results from 'tmp-liwc.csv'\n",
    "liwc_df = pd.read_csv('liwc-tmp.csv', sep=',', quoting=csv.QUOTE_ALL, escapechar='\\\\')\n"
   ]
  },
  {
   "cell_type": "code",
   "execution_count": null,
   "metadata": {},
   "outputs": [],
   "source": [
    "import ast\n",
    "liwc_df = pd.DataFrame(liwc_df['text'].apply(ast.literal_eval).to_list())"
   ]
  },
  {
   "cell_type": "code",
   "execution_count": null,
   "metadata": {},
   "outputs": [],
   "source": [
    "def remove_invalids(col='', df=''):\n",
    "  invalid_options = [np.nan, 'nan', None, 0, '0', 'NaN', '[deleted]', '[removed]']\n",
    "  df = df.dropna(subset=[col], how='all')\n",
    "  df = df[~df[col].isin(invalid_options)]\n",
    "  return df\n",
    "\n",
    "# for source in reddit_files_titles:\n",
    "source = 'argentina_comments'\n",
    "source_dir = f'../output/reddit_output/{source}-output_table.csv'\n",
    "source_output_dir = f'../output/reddit_output/filtered_tables_LIWC_count/{source}-liwc_output.csv'\n",
    "\n",
    "df_output_table = pd.read_csv(source_dir,sep=',')\n",
    "\n",
    "df_output_table = remove_invalids('text', df_output_table)\n",
    "\n",
    "if 'title' in df_output_table.columns: #if its a submission (has title)\n",
    "    #remove invalid/incomplete obs\n",
    "    df_output_table = remove_invalids('title', df_output_table)\n",
    "    #join title and text (yes fillna just in case something passed previous cleanup)\n",
    "    df_output_table['text'] = df_output_table['title'].fillna('') + '\\n' + df_output_table['text'].fillna('')\n",
    "    #now drop it\n",
    "    df_output_table = df_output_table.drop(columns=['title'])"
   ]
  },
  {
   "cell_type": "code",
   "execution_count": null,
   "metadata": {},
   "outputs": [],
   "source": [
    "df_merge_tst = pd.concat([df_output_table, liwc_df], axis=1)"
   ]
  },
  {
   "cell_type": "code",
   "execution_count": null,
   "metadata": {},
   "outputs": [],
   "source": [
    "# Save the final DataFrame to a CSV\n",
    "source_output_dir = f'../output/reddit_output/filtered_tables_LIWC_count/{source}-liwc_output.csv'\n",
    "df_output_table.to_csv(source_output_dir, index=False, sep=',', quoting=csv.QUOTE_ALL, escapechar='\\\\')"
   ]
  },
  {
   "cell_type": "code",
   "execution_count": 8,
   "metadata": {},
   "outputs": [
    {
     "name": "stderr",
     "output_type": "stream",
     "text": [
      "/var/folders/fv/m61tb7rx6n5_86nwkz1zl_300000gn/T/ipykernel_32457/830965458.py:10: DtypeWarning: Columns (0,4,5) have mixed types. Specify dtype option on import or set low_memory=False.\n",
      "  df = pd.read_csv(f'/Volumes/Drakôn Kholkikos - 2TB/Tesis-Grado/output/reddit_output/filtered_tables_LIWC_count/{source}-liwc_output.csv', sep=',')\n"
     ]
    },
    {
     "name": "stdout",
     "output_type": "stream",
     "text": [
      "argentina_submissions - 57645\n",
      "Republica_Argentina_submissions - 2092\n"
     ]
    },
    {
     "name": "stderr",
     "output_type": "stream",
     "text": [
      "/var/folders/fv/m61tb7rx6n5_86nwkz1zl_300000gn/T/ipykernel_32457/830965458.py:10: DtypeWarning: Columns (0,4,5) have mixed types. Specify dtype option on import or set low_memory=False.\n",
      "  df = pd.read_csv(f'/Volumes/Drakôn Kholkikos - 2TB/Tesis-Grado/output/reddit_output/filtered_tables_LIWC_count/{source}-liwc_output.csv', sep=',')\n"
     ]
    },
    {
     "name": "stdout",
     "output_type": "stream",
     "text": [
      "Republica_Argentina_comments - 172497\n",
      "RepublicaArgentina_submissions - 5507\n",
      "RepublicaArgentina_comments - 320714\n"
     ]
    },
    {
     "name": "stderr",
     "output_type": "stream",
     "text": [
      "/var/folders/fv/m61tb7rx6n5_86nwkz1zl_300000gn/T/ipykernel_32457/830965458.py:10: DtypeWarning: Columns (0,4,5) have mixed types. Specify dtype option on import or set low_memory=False.\n",
      "  df = pd.read_csv(f'/Volumes/Drakôn Kholkikos - 2TB/Tesis-Grado/output/reddit_output/filtered_tables_LIWC_count/{source}-liwc_output.csv', sep=',')\n"
     ]
    }
   ],
   "source": [
    "sources = [\n",
    "  'argentina_submissions',\n",
    "  # 'argentina_comments',\n",
    "  'Republica_Argentina_submissions',\n",
    "  'Republica_Argentina_comments',\n",
    "  'RepublicaArgentina_submissions',\n",
    "  'RepublicaArgentina_comments',\n",
    "]\n",
    "for source in sources:\n",
    "    df = pd.read_csv(f'/Volumes/Drakôn Kholkikos - 2TB/Tesis-Grado/output/reddit_output/filtered_tables_LIWC_count/{source}-liwc_output.csv', sep=',')\n",
    "    print(source, '-', len(df))"
   ]
  }
 ],
 "metadata": {
  "kernelspec": {
   "display_name": "pyenv-tesis",
   "language": "python",
   "name": "python3"
  },
  "language_info": {
   "codemirror_mode": {
    "name": "ipython",
    "version": 3
   },
   "file_extension": ".py",
   "mimetype": "text/x-python",
   "name": "python",
   "nbconvert_exporter": "python",
   "pygments_lexer": "ipython3",
   "version": "3.9.13"
  }
 },
 "nbformat": 4,
 "nbformat_minor": 2
}

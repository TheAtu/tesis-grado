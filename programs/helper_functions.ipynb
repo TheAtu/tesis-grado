{
 "cells": [
  {
   "cell_type": "code",
   "execution_count": 2,
   "metadata": {},
   "outputs": [],
   "source": [
    "import subprocess\n",
    "def c_import(library, elements=None, name=None, always_reimport= True, always_reinstall = True):\n",
    "  if elements:\n",
    "    import_str = f'from {library} import {\", \".join(elements)}'\n",
    "    tested_install_var = \", \".join(elements)\n",
    "    any_not_installed = True if any(e not in globals() for e in elements) else False\n",
    "  else:\n",
    "    import_str = f'import {library}'\n",
    "    tested_install_var = library\n",
    "    any_not_installed = True if library not in globals() else False\n",
    "  if name:\n",
    "    import_str = f'{import_str} as {name}'\n",
    "    tested_install_var = name\n",
    "    any_not_installed = True if name not in globals() else False\n",
    "\n",
    "  def sub_install():\n",
    "    subprocess.run(f'pip install {library}', shell=True, check=True)\n",
    "    print(f'Library {library} installed successfully.')\n",
    "\n",
    "  def sub_import():\n",
    "    exec(import_str, globals())\n",
    "    print(f'Library {library} imported successfully. As: \\n {import_str}')\n",
    "\n",
    "  if always_reinstall:\n",
    "    try:\n",
    "      sub_install()\n",
    "      sub_import()\n",
    "    except subprocess.CalledProcessError:\n",
    "      print(f'Failed to install {library}.')\n",
    "    except ImportError as err:\n",
    "      print(f'After Install. Import error: {err}')\n",
    "\n",
    "  else:\n",
    "    if always_reimport == True or any_not_installed == True:\n",
    "        try:\n",
    "          sub_import()\n",
    "        except ImportError as err:\n",
    "          print(f'Import error: {err}')\n",
    "          if library in str(err):\n",
    "            try:\n",
    "                # Use subprocess to run the pip install command\n",
    "                sub_install()\n",
    "                sub_import()\n",
    "            except subprocess.CalledProcessError:\n",
    "                print(f'Failed to install {library}.')\n",
    "    else:\n",
    "      print(f'\"{tested_install_var}\" already installed and imported')"
   ]
  },
  {
   "cell_type": "code",
   "execution_count": 3,
   "metadata": {},
   "outputs": [],
   "source": [
    "def printer(t):\n",
    "  print(t)"
   ]
  }
 ],
 "metadata": {
  "kernelspec": {
   "display_name": "Python 3.9.13 64-bit ('pyEnv-Tesis')",
   "language": "python",
   "name": "python3"
  },
  "language_info": {
   "codemirror_mode": {
    "name": "ipython",
    "version": 3
   },
   "file_extension": ".py",
   "mimetype": "text/x-python",
   "name": "python",
   "nbconvert_exporter": "python",
   "pygments_lexer": "ipython3",
   "version": "3.9.13"
  },
  "orig_nbformat": 4,
  "vscode": {
   "interpreter": {
    "hash": "64bf04684b12aceb54b9fb27a5abbec13f4bc86e011a246870868e1456d1887b"
   }
  }
 },
 "nbformat": 4,
 "nbformat_minor": 2
}

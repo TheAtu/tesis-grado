{
 "cells": [
  {
   "cell_type": "code",
   "execution_count": 18,
   "metadata": {},
   "outputs": [],
   "source": [
    "import json\n",
    "import datetime\n",
    "from tqdm.notebook import tqdm\n",
    "import csv\n",
    "import os\n",
    "import pandas as pd"
   ]
  },
  {
   "cell_type": "code",
   "execution_count": 19,
   "metadata": {},
   "outputs": [],
   "source": [
    "input_dir = \"../input/reddit_input/\"\n",
    "output_dir = \"../output/reddit_output/\"\n",
    "# split_files_dir = input_dir+'split_data/' #split JSONs output\n",
    "liwcdic_file_dir = '../input/Spanish_LIWC2007_Dictionary.dic'\n",
    "# Specify the folder path where you want to search for .zst files\n",
    "zst_files_dir = '/Volumes/Drakôn Kholkikos - 2TB/Tesis-Grado/input/reddit_input/'\n"
   ]
  },
  {
   "cell_type": "code",
   "execution_count": 20,
   "metadata": {},
   "outputs": [],
   "source": [
    "json_keys = {\n",
    "  'time': 'created_utc',\n",
    "  'id': 'id',\n",
    "  'link_path': 'permalink',\n",
    "  'title':'title',\n",
    "  'texts': {'text':'selftext','title':'title'}\n",
    "}"
   ]
  },
  {
   "cell_type": "code",
   "execution_count": 21,
   "metadata": {},
   "outputs": [],
   "source": [
    "def json_chunks_processing(large_filename, json_keys):\n",
    "  file_name = os.path.splitext(large_filename)[0] #without the .json\n",
    "  # Directory where the JSON files are located\n",
    "  json_files_dir = f'../input/reddit_input/{file_name}-split_data/'\n",
    "\n",
    "  # Directory where the CSV file is located\n",
    "  csv_table_dir = output_dir + f'{file_name}-output_table.csv'\n",
    "  \n",
    "  stored_post_counter = 0\n",
    "\n",
    "  with open(csv_table_dir, 'w') as csv_file: # Check if the CSV file is empty\n",
    "    csv_empty = os.path.getsize(csv_table_dir) == 0\n",
    "\n",
    "    if csv_empty:\n",
    "      # If the file is empty, write the headers\n",
    "      columns = []\n",
    "      for key in json_keys['texts']:    \n",
    "        columns.append(key)\n",
    "      columns = ['id', 'year', 'month', 'day']+columns+['permalink']\n",
    "      pd.DataFrame(columns=columns).to_csv(csv_file, index=False, header=True, sep=',')\n",
    "\n",
    "  for chunk_name in tqdm(os.listdir(json_files_dir),desc=file_name): # Loop through all files in the specified folder\n",
    "    if chunk_name.endswith('.json'):\n",
    "      chunk_dir = os.path.join(json_files_dir, chunk_name)\n",
    "      data_chunk = [] # Initialize an empty list to hold the data for this file\n",
    "      with open(chunk_dir, 'r') as json_file:\n",
    "        # for line in file:\n",
    "        for line in tqdm(json_file,desc=chunk_name): #doesnt work with tqdm?\n",
    "          # Process each line here\n",
    "          json_data = json.loads(line)\n",
    "          row = []\n",
    "\n",
    "          for key in json_keys['texts']:\n",
    "            value = json_data.get(json_keys['texts'][key],'')\n",
    "            row.append(value)\n",
    "          \n",
    "          id = json_data.get(json_keys['id'],'')\n",
    "          created_utc = json_data.get(json_keys['time'],'')\n",
    "          link_path = json_data.get(json_keys['link_path'],'')\n",
    "          timestamp = datetime.datetime.fromtimestamp(int(created_utc))\n",
    "          year, month, day = timestamp.strftime('%Y-%m-%d').split('-')\n",
    "          \n",
    "          row = [id, year, month, day]+row+[link_path]\n",
    "          # Format the datetime object as \"YYYY MM DD\"\n",
    "          # formatted_date = timestamp.strftime(\"%Y %m %d\")\n",
    "          if 1514764801 <= int(created_utc) <= 1672531199 :       \n",
    "            try:\n",
    "              data_chunk.append(row)\n",
    "              stored_post_counter += 1\n",
    "            except:\n",
    "              continue\n",
    "\n",
    "      with open(csv_table_dir, mode='a', newline='') as _file:\n",
    "        _writer = csv.writer(_file, delimiter=',')\n",
    "        for data in data_chunk:\n",
    "            _writer.writerow(data)\n",
    "\n",
    "      data_chunk = []\n",
    "  print('Stored posts:',stored_post_counter)\n"
   ]
  },
  {
   "cell_type": "code",
   "execution_count": 22,
   "metadata": {},
   "outputs": [
    {
     "data": {
      "application/vnd.jupyter.widget-view+json": {
       "model_id": "b1c7604ff0f345368b62cee0012ba09d",
       "version_major": 2,
       "version_minor": 0
      },
      "text/plain": [
       "Republica_Argentina_submissions:   0%|          | 0/5 [00:00<?, ?it/s]"
      ]
     },
     "metadata": {},
     "output_type": "display_data"
    },
    {
     "data": {
      "application/vnd.jupyter.widget-view+json": {
       "model_id": "58688fd4fe1d4eac9308cfe051b6b024",
       "version_major": 2,
       "version_minor": 0
      },
      "text/plain": [
       "chunk_1.json: 0it [00:00, ?it/s]"
      ]
     },
     "metadata": {},
     "output_type": "display_data"
    },
    {
     "data": {
      "application/vnd.jupyter.widget-view+json": {
       "model_id": "683db91637e9415fb95d11edc539bc33",
       "version_major": 2,
       "version_minor": 0
      },
      "text/plain": [
       "chunk_2.json: 0it [00:00, ?it/s]"
      ]
     },
     "metadata": {},
     "output_type": "display_data"
    },
    {
     "data": {
      "application/vnd.jupyter.widget-view+json": {
       "model_id": "c1818d5797274f68a7568a175ff0c25d",
       "version_major": 2,
       "version_minor": 0
      },
      "text/plain": [
       "chunk_3.json: 0it [00:00, ?it/s]"
      ]
     },
     "metadata": {},
     "output_type": "display_data"
    },
    {
     "data": {
      "application/vnd.jupyter.widget-view+json": {
       "model_id": "5d602db63bc64242b3be5a890f8bdba9",
       "version_major": 2,
       "version_minor": 0
      },
      "text/plain": [
       "chunk_4.json: 0it [00:00, ?it/s]"
      ]
     },
     "metadata": {},
     "output_type": "display_data"
    },
    {
     "data": {
      "application/vnd.jupyter.widget-view+json": {
       "model_id": "b299e21fe483487aae1a1d91420fec16",
       "version_major": 2,
       "version_minor": 0
      },
      "text/plain": [
       "chunk_5.json: 0it [00:00, ?it/s]"
      ]
     },
     "metadata": {},
     "output_type": "display_data"
    },
    {
     "name": "stdout",
     "output_type": "stream",
     "text": [
      "Stored posts: 21224\n"
     ]
    }
   ],
   "source": [
    "reddit_files = [\n",
    "  # 'argentina_submissions.json',\n",
    "  # 'argentina_comments.json',\n",
    "  'Republica_Argentina_submissions.json',\n",
    "  # 'Republica_Argentina_comments.json',\n",
    "  # 'RepublicaArgentina_submissions.json',\n",
    "  # 'RepublicaArgentina_comments.json',\n",
    "]\n",
    "for reddit_file in reddit_files:\n",
    "  # json_file_splitter(reddit_file, lines_per_chunk= 5000)\n",
    "  \n",
    "  if 'comments' in reddit_file: \n",
    "    json_keys['text'] = {'text':'selftext','title':'title'}\n",
    "  elif 'submissions' in reddit_file:\n",
    "    json_keys['text'] = {'text':'body'}\n",
    "  json_chunks_processing(large_filename = reddit_file, json_keys=json_keys)"
   ]
  },
  {
   "cell_type": "code",
   "execution_count": 15,
   "metadata": {},
   "outputs": [
    {
     "data": {
      "application/vnd.jupyter.widget-view+json": {
       "model_id": "e7f1fa90e44e4202a15b71d9e975bdeb",
       "version_major": 2,
       "version_minor": 0
      },
      "text/plain": [
       "  0%|          | 0/100 [00:00<?, ?it/s]"
      ]
     },
     "metadata": {},
     "output_type": "display_data"
    },
    {
     "data": {
      "application/vnd.jupyter.widget-view+json": {
       "model_id": "54c0e79a32e845a78dc3a4bb06dca7b1",
       "version_major": 2,
       "version_minor": 0
      },
      "text/plain": [
       "chunk $1:   0%|          | 0/10 [00:00<?, ?it/s]"
      ]
     },
     "metadata": {},
     "output_type": "display_data"
    },
    {
     "data": {
      "application/vnd.jupyter.widget-view+json": {
       "model_id": "3930dbc6c6094627897bd304190a8f7c",
       "version_major": 2,
       "version_minor": 0
      },
      "text/plain": [
       "chunk $2:   0%|          | 0/10 [00:00<?, ?it/s]"
      ]
     },
     "metadata": {},
     "output_type": "display_data"
    },
    {
     "data": {
      "application/vnd.jupyter.widget-view+json": {
       "model_id": "f49c5bb90f324774971c1bc7e6ac7c42",
       "version_major": 2,
       "version_minor": 0
      },
      "text/plain": [
       "chunk $3:   0%|          | 0/10 [00:00<?, ?it/s]"
      ]
     },
     "metadata": {},
     "output_type": "display_data"
    },
    {
     "data": {
      "application/vnd.jupyter.widget-view+json": {
       "model_id": "931b39e3963d474e94859e6f3fd04ed4",
       "version_major": 2,
       "version_minor": 0
      },
      "text/plain": [
       "chunk $4:   0%|          | 0/10 [00:00<?, ?it/s]"
      ]
     },
     "metadata": {},
     "output_type": "display_data"
    },
    {
     "data": {
      "application/vnd.jupyter.widget-view+json": {
       "model_id": "c862fde76e8d4529abb15949178e1f3c",
       "version_major": 2,
       "version_minor": 0
      },
      "text/plain": [
       "chunk $5:   0%|          | 0/10 [00:00<?, ?it/s]"
      ]
     },
     "metadata": {},
     "output_type": "display_data"
    },
    {
     "data": {
      "application/vnd.jupyter.widget-view+json": {
       "model_id": "53c9febda451463bb19ce175dcacfaf8",
       "version_major": 2,
       "version_minor": 0
      },
      "text/plain": [
       "chunk $6:   0%|          | 0/10 [00:00<?, ?it/s]"
      ]
     },
     "metadata": {},
     "output_type": "display_data"
    },
    {
     "data": {
      "application/vnd.jupyter.widget-view+json": {
       "model_id": "40066e81289546b887246da4d7160f2c",
       "version_major": 2,
       "version_minor": 0
      },
      "text/plain": [
       "chunk $7:   0%|          | 0/10 [00:00<?, ?it/s]"
      ]
     },
     "metadata": {},
     "output_type": "display_data"
    },
    {
     "data": {
      "application/vnd.jupyter.widget-view+json": {
       "model_id": "6bfaf67737f14e1ea8b9221eb5d168ed",
       "version_major": 2,
       "version_minor": 0
      },
      "text/plain": [
       "chunk $8:   0%|          | 0/10 [00:00<?, ?it/s]"
      ]
     },
     "metadata": {},
     "output_type": "display_data"
    },
    {
     "data": {
      "application/vnd.jupyter.widget-view+json": {
       "model_id": "4021de88b9fd465c9ffec6f71568d9a0",
       "version_major": 2,
       "version_minor": 0
      },
      "text/plain": [
       "chunk $9:   0%|          | 0/10 [00:00<?, ?it/s]"
      ]
     },
     "metadata": {},
     "output_type": "display_data"
    },
    {
     "data": {
      "application/vnd.jupyter.widget-view+json": {
       "model_id": "41cebca6eabf47b988f9438282d03109",
       "version_major": 2,
       "version_minor": 0
      },
      "text/plain": [
       "chunk $10:   0%|          | 0/10 [00:00<?, ?it/s]"
      ]
     },
     "metadata": {},
     "output_type": "display_data"
    },
    {
     "data": {
      "application/vnd.jupyter.widget-view+json": {
       "model_id": "50795eeeac024e02a55c66794a6ea70e",
       "version_major": 2,
       "version_minor": 0
      },
      "text/plain": [
       "chunk $11:   0%|          | 0/10 [00:00<?, ?it/s]"
      ]
     },
     "metadata": {},
     "output_type": "display_data"
    },
    {
     "data": {
      "application/vnd.jupyter.widget-view+json": {
       "model_id": "448fdda98e344c6482e3d186af7dd304",
       "version_major": 2,
       "version_minor": 0
      },
      "text/plain": [
       "chunk $12:   0%|          | 0/10 [00:00<?, ?it/s]"
      ]
     },
     "metadata": {},
     "output_type": "display_data"
    },
    {
     "data": {
      "application/vnd.jupyter.widget-view+json": {
       "model_id": "3c411ec5f07c4fb9aad61e77e15a4c89",
       "version_major": 2,
       "version_minor": 0
      },
      "text/plain": [
       "chunk $13:   0%|          | 0/10 [00:00<?, ?it/s]"
      ]
     },
     "metadata": {},
     "output_type": "display_data"
    },
    {
     "data": {
      "application/vnd.jupyter.widget-view+json": {
       "model_id": "69c099b0c1844a38a91d3071e3043c8d",
       "version_major": 2,
       "version_minor": 0
      },
      "text/plain": [
       "chunk $14:   0%|          | 0/10 [00:00<?, ?it/s]"
      ]
     },
     "metadata": {},
     "output_type": "display_data"
    },
    {
     "data": {
      "application/vnd.jupyter.widget-view+json": {
       "model_id": "006d3b1169604754b40afa954f4241c6",
       "version_major": 2,
       "version_minor": 0
      },
      "text/plain": [
       "chunk $15:   0%|          | 0/10 [00:00<?, ?it/s]"
      ]
     },
     "metadata": {},
     "output_type": "display_data"
    },
    {
     "data": {
      "application/vnd.jupyter.widget-view+json": {
       "model_id": "b1acbf948b66411cb0dd1020e7c506c9",
       "version_major": 2,
       "version_minor": 0
      },
      "text/plain": [
       "chunk $16:   0%|          | 0/10 [00:00<?, ?it/s]"
      ]
     },
     "metadata": {},
     "output_type": "display_data"
    },
    {
     "data": {
      "application/vnd.jupyter.widget-view+json": {
       "model_id": "bedab407f34642eba2d03d97f9d2d781",
       "version_major": 2,
       "version_minor": 0
      },
      "text/plain": [
       "chunk $17:   0%|          | 0/10 [00:00<?, ?it/s]"
      ]
     },
     "metadata": {},
     "output_type": "display_data"
    },
    {
     "data": {
      "application/vnd.jupyter.widget-view+json": {
       "model_id": "c89f2285f5804d15a587aa2ad41ff8cd",
       "version_major": 2,
       "version_minor": 0
      },
      "text/plain": [
       "chunk $18:   0%|          | 0/10 [00:00<?, ?it/s]"
      ]
     },
     "metadata": {},
     "output_type": "display_data"
    },
    {
     "data": {
      "application/vnd.jupyter.widget-view+json": {
       "model_id": "d96c08bf852244e082f0803209c7c132",
       "version_major": 2,
       "version_minor": 0
      },
      "text/plain": [
       "chunk $19:   0%|          | 0/10 [00:00<?, ?it/s]"
      ]
     },
     "metadata": {},
     "output_type": "display_data"
    },
    {
     "data": {
      "application/vnd.jupyter.widget-view+json": {
       "model_id": "5b27fbe9eeb2431cbb48b58944b2216b",
       "version_major": 2,
       "version_minor": 0
      },
      "text/plain": [
       "chunk $20:   0%|          | 0/10 [00:00<?, ?it/s]"
      ]
     },
     "metadata": {},
     "output_type": "display_data"
    },
    {
     "data": {
      "application/vnd.jupyter.widget-view+json": {
       "model_id": "f023b7171bbb4618a739537ef2b595e1",
       "version_major": 2,
       "version_minor": 0
      },
      "text/plain": [
       "chunk $21:   0%|          | 0/10 [00:00<?, ?it/s]"
      ]
     },
     "metadata": {},
     "output_type": "display_data"
    },
    {
     "data": {
      "application/vnd.jupyter.widget-view+json": {
       "model_id": "af24598b7f14400f9122af54b60613c6",
       "version_major": 2,
       "version_minor": 0
      },
      "text/plain": [
       "chunk $22:   0%|          | 0/10 [00:00<?, ?it/s]"
      ]
     },
     "metadata": {},
     "output_type": "display_data"
    },
    {
     "data": {
      "application/vnd.jupyter.widget-view+json": {
       "model_id": "31359bcff41c4812bf988b6ca7dbb396",
       "version_major": 2,
       "version_minor": 0
      },
      "text/plain": [
       "chunk $23:   0%|          | 0/10 [00:00<?, ?it/s]"
      ]
     },
     "metadata": {},
     "output_type": "display_data"
    },
    {
     "data": {
      "application/vnd.jupyter.widget-view+json": {
       "model_id": "975c21b739244b1ba3adcfdfad3a3dd7",
       "version_major": 2,
       "version_minor": 0
      },
      "text/plain": [
       "chunk $24:   0%|          | 0/10 [00:00<?, ?it/s]"
      ]
     },
     "metadata": {},
     "output_type": "display_data"
    },
    {
     "data": {
      "application/vnd.jupyter.widget-view+json": {
       "model_id": "a7d00d2632ea4411a796d7fe9d2a6ac3",
       "version_major": 2,
       "version_minor": 0
      },
      "text/plain": [
       "chunk $25:   0%|          | 0/10 [00:00<?, ?it/s]"
      ]
     },
     "metadata": {},
     "output_type": "display_data"
    },
    {
     "data": {
      "application/vnd.jupyter.widget-view+json": {
       "model_id": "d00a60a851db46618c40412282782d16",
       "version_major": 2,
       "version_minor": 0
      },
      "text/plain": [
       "chunk $26:   0%|          | 0/10 [00:00<?, ?it/s]"
      ]
     },
     "metadata": {},
     "output_type": "display_data"
    },
    {
     "data": {
      "application/vnd.jupyter.widget-view+json": {
       "model_id": "ef73bcc608bb4d38ad3f00a2d44f954f",
       "version_major": 2,
       "version_minor": 0
      },
      "text/plain": [
       "chunk $27:   0%|          | 0/10 [00:00<?, ?it/s]"
      ]
     },
     "metadata": {},
     "output_type": "display_data"
    },
    {
     "data": {
      "application/vnd.jupyter.widget-view+json": {
       "model_id": "9c64110bd0c548569d2a4e89fe4f2233",
       "version_major": 2,
       "version_minor": 0
      },
      "text/plain": [
       "chunk $28:   0%|          | 0/10 [00:00<?, ?it/s]"
      ]
     },
     "metadata": {},
     "output_type": "display_data"
    },
    {
     "data": {
      "application/vnd.jupyter.widget-view+json": {
       "model_id": "d24ad698c3084f7495b963d97d7c0e1e",
       "version_major": 2,
       "version_minor": 0
      },
      "text/plain": [
       "chunk $29:   0%|          | 0/10 [00:00<?, ?it/s]"
      ]
     },
     "metadata": {},
     "output_type": "display_data"
    },
    {
     "data": {
      "application/vnd.jupyter.widget-view+json": {
       "model_id": "dcaaff2ea6ec4dc7bcc9cef6d8ea419d",
       "version_major": 2,
       "version_minor": 0
      },
      "text/plain": [
       "chunk $30:   0%|          | 0/10 [00:00<?, ?it/s]"
      ]
     },
     "metadata": {},
     "output_type": "display_data"
    },
    {
     "data": {
      "application/vnd.jupyter.widget-view+json": {
       "model_id": "1ecf8b339ae9409083e55a3ca3d32301",
       "version_major": 2,
       "version_minor": 0
      },
      "text/plain": [
       "chunk $31:   0%|          | 0/10 [00:00<?, ?it/s]"
      ]
     },
     "metadata": {},
     "output_type": "display_data"
    },
    {
     "data": {
      "application/vnd.jupyter.widget-view+json": {
       "model_id": "39e076606df44e4eaa02e1919cb292ca",
       "version_major": 2,
       "version_minor": 0
      },
      "text/plain": [
       "chunk $32:   0%|          | 0/10 [00:00<?, ?it/s]"
      ]
     },
     "metadata": {},
     "output_type": "display_data"
    },
    {
     "data": {
      "application/vnd.jupyter.widget-view+json": {
       "model_id": "351c3aeb36504fbb85726eea2b977e27",
       "version_major": 2,
       "version_minor": 0
      },
      "text/plain": [
       "chunk $33:   0%|          | 0/10 [00:00<?, ?it/s]"
      ]
     },
     "metadata": {},
     "output_type": "display_data"
    },
    {
     "data": {
      "application/vnd.jupyter.widget-view+json": {
       "model_id": "db07ae6e8b92423b9aa8e155f6f088b2",
       "version_major": 2,
       "version_minor": 0
      },
      "text/plain": [
       "chunk $34:   0%|          | 0/10 [00:00<?, ?it/s]"
      ]
     },
     "metadata": {},
     "output_type": "display_data"
    },
    {
     "data": {
      "application/vnd.jupyter.widget-view+json": {
       "model_id": "1d131ccfbd954800adb017c431effba7",
       "version_major": 2,
       "version_minor": 0
      },
      "text/plain": [
       "chunk $35:   0%|          | 0/10 [00:00<?, ?it/s]"
      ]
     },
     "metadata": {},
     "output_type": "display_data"
    },
    {
     "data": {
      "application/vnd.jupyter.widget-view+json": {
       "model_id": "eb8362212b584ccea72075e4e2550293",
       "version_major": 2,
       "version_minor": 0
      },
      "text/plain": [
       "chunk $36:   0%|          | 0/10 [00:00<?, ?it/s]"
      ]
     },
     "metadata": {},
     "output_type": "display_data"
    },
    {
     "data": {
      "application/vnd.jupyter.widget-view+json": {
       "model_id": "1d9f7e7dce254fb1b57607d99d2786c4",
       "version_major": 2,
       "version_minor": 0
      },
      "text/plain": [
       "chunk $37:   0%|          | 0/10 [00:00<?, ?it/s]"
      ]
     },
     "metadata": {},
     "output_type": "display_data"
    },
    {
     "data": {
      "application/vnd.jupyter.widget-view+json": {
       "model_id": "b243bae8e4d14a06860dc10faaf25299",
       "version_major": 2,
       "version_minor": 0
      },
      "text/plain": [
       "chunk $38:   0%|          | 0/10 [00:00<?, ?it/s]"
      ]
     },
     "metadata": {},
     "output_type": "display_data"
    },
    {
     "data": {
      "application/vnd.jupyter.widget-view+json": {
       "model_id": "7e594282c4184334a6ee2304d69691e1",
       "version_major": 2,
       "version_minor": 0
      },
      "text/plain": [
       "chunk $39:   0%|          | 0/10 [00:00<?, ?it/s]"
      ]
     },
     "metadata": {},
     "output_type": "display_data"
    },
    {
     "data": {
      "application/vnd.jupyter.widget-view+json": {
       "model_id": "510b12891ff64e5794c26aaaba4154b9",
       "version_major": 2,
       "version_minor": 0
      },
      "text/plain": [
       "chunk $40:   0%|          | 0/10 [00:00<?, ?it/s]"
      ]
     },
     "metadata": {},
     "output_type": "display_data"
    },
    {
     "data": {
      "application/vnd.jupyter.widget-view+json": {
       "model_id": "b1b3017a0901406ba5ae954acc4700e3",
       "version_major": 2,
       "version_minor": 0
      },
      "text/plain": [
       "chunk $41:   0%|          | 0/10 [00:00<?, ?it/s]"
      ]
     },
     "metadata": {},
     "output_type": "display_data"
    },
    {
     "data": {
      "application/vnd.jupyter.widget-view+json": {
       "model_id": "8cb9e494009340b3bedaf71dff399f65",
       "version_major": 2,
       "version_minor": 0
      },
      "text/plain": [
       "chunk $42:   0%|          | 0/10 [00:00<?, ?it/s]"
      ]
     },
     "metadata": {},
     "output_type": "display_data"
    },
    {
     "data": {
      "application/vnd.jupyter.widget-view+json": {
       "model_id": "d62e882861f8469195a5598355d5899d",
       "version_major": 2,
       "version_minor": 0
      },
      "text/plain": [
       "chunk $43:   0%|          | 0/10 [00:00<?, ?it/s]"
      ]
     },
     "metadata": {},
     "output_type": "display_data"
    },
    {
     "data": {
      "application/vnd.jupyter.widget-view+json": {
       "model_id": "0e6a8ffbfeb345a494e1016315b3451f",
       "version_major": 2,
       "version_minor": 0
      },
      "text/plain": [
       "chunk $44:   0%|          | 0/10 [00:00<?, ?it/s]"
      ]
     },
     "metadata": {},
     "output_type": "display_data"
    },
    {
     "data": {
      "application/vnd.jupyter.widget-view+json": {
       "model_id": "fbf4c5061b2c4aca83d9f0c06587cf64",
       "version_major": 2,
       "version_minor": 0
      },
      "text/plain": [
       "chunk $45:   0%|          | 0/10 [00:00<?, ?it/s]"
      ]
     },
     "metadata": {},
     "output_type": "display_data"
    },
    {
     "data": {
      "application/vnd.jupyter.widget-view+json": {
       "model_id": "1426fb34b5f640d89651443926edb5fb",
       "version_major": 2,
       "version_minor": 0
      },
      "text/plain": [
       "chunk $46:   0%|          | 0/10 [00:00<?, ?it/s]"
      ]
     },
     "metadata": {},
     "output_type": "display_data"
    },
    {
     "data": {
      "application/vnd.jupyter.widget-view+json": {
       "model_id": "7acc7ebe73f5400986526eb3b1dd5db7",
       "version_major": 2,
       "version_minor": 0
      },
      "text/plain": [
       "chunk $47:   0%|          | 0/10 [00:00<?, ?it/s]"
      ]
     },
     "metadata": {},
     "output_type": "display_data"
    },
    {
     "data": {
      "application/vnd.jupyter.widget-view+json": {
       "model_id": "9bd6818ace0e441b9b3079f820ff38bc",
       "version_major": 2,
       "version_minor": 0
      },
      "text/plain": [
       "chunk $48:   0%|          | 0/10 [00:00<?, ?it/s]"
      ]
     },
     "metadata": {},
     "output_type": "display_data"
    },
    {
     "data": {
      "application/vnd.jupyter.widget-view+json": {
       "model_id": "1f72277c51f34974853f45d136eccc8c",
       "version_major": 2,
       "version_minor": 0
      },
      "text/plain": [
       "chunk $49:   0%|          | 0/10 [00:00<?, ?it/s]"
      ]
     },
     "metadata": {},
     "output_type": "display_data"
    },
    {
     "data": {
      "application/vnd.jupyter.widget-view+json": {
       "model_id": "b8a889e7f44f49e09575dd05efd3ac3c",
       "version_major": 2,
       "version_minor": 0
      },
      "text/plain": [
       "chunk $50:   0%|          | 0/10 [00:00<?, ?it/s]"
      ]
     },
     "metadata": {},
     "output_type": "display_data"
    },
    {
     "data": {
      "application/vnd.jupyter.widget-view+json": {
       "model_id": "1879ec63f9fa4bb4821932466601cc1d",
       "version_major": 2,
       "version_minor": 0
      },
      "text/plain": [
       "chunk $51:   0%|          | 0/10 [00:00<?, ?it/s]"
      ]
     },
     "metadata": {},
     "output_type": "display_data"
    },
    {
     "data": {
      "application/vnd.jupyter.widget-view+json": {
       "model_id": "9a5a1d2a70054e7fab907b9de936208d",
       "version_major": 2,
       "version_minor": 0
      },
      "text/plain": [
       "chunk $52:   0%|          | 0/10 [00:00<?, ?it/s]"
      ]
     },
     "metadata": {},
     "output_type": "display_data"
    },
    {
     "data": {
      "application/vnd.jupyter.widget-view+json": {
       "model_id": "cdf13a39c54b4a7ab9019a592f2dfc21",
       "version_major": 2,
       "version_minor": 0
      },
      "text/plain": [
       "chunk $53:   0%|          | 0/10 [00:00<?, ?it/s]"
      ]
     },
     "metadata": {},
     "output_type": "display_data"
    },
    {
     "data": {
      "application/vnd.jupyter.widget-view+json": {
       "model_id": "89e813205c2d47a4a5a343d2a3bbb328",
       "version_major": 2,
       "version_minor": 0
      },
      "text/plain": [
       "chunk $54:   0%|          | 0/10 [00:00<?, ?it/s]"
      ]
     },
     "metadata": {},
     "output_type": "display_data"
    },
    {
     "data": {
      "application/vnd.jupyter.widget-view+json": {
       "model_id": "695970132bb6407f90e84553f10d3464",
       "version_major": 2,
       "version_minor": 0
      },
      "text/plain": [
       "chunk $55:   0%|          | 0/10 [00:00<?, ?it/s]"
      ]
     },
     "metadata": {},
     "output_type": "display_data"
    },
    {
     "data": {
      "application/vnd.jupyter.widget-view+json": {
       "model_id": "30e164028f8d40148c8da2edde956bc0",
       "version_major": 2,
       "version_minor": 0
      },
      "text/plain": [
       "chunk $56:   0%|          | 0/10 [00:00<?, ?it/s]"
      ]
     },
     "metadata": {},
     "output_type": "display_data"
    },
    {
     "data": {
      "application/vnd.jupyter.widget-view+json": {
       "model_id": "bdd1a97411d24525b6ccbbff97f2c5f5",
       "version_major": 2,
       "version_minor": 0
      },
      "text/plain": [
       "chunk $57:   0%|          | 0/10 [00:00<?, ?it/s]"
      ]
     },
     "metadata": {},
     "output_type": "display_data"
    },
    {
     "data": {
      "application/vnd.jupyter.widget-view+json": {
       "model_id": "d16e9ff6c46940ecbde82654a8f0b5fd",
       "version_major": 2,
       "version_minor": 0
      },
      "text/plain": [
       "chunk $58:   0%|          | 0/10 [00:00<?, ?it/s]"
      ]
     },
     "metadata": {},
     "output_type": "display_data"
    },
    {
     "data": {
      "application/vnd.jupyter.widget-view+json": {
       "model_id": "39ade8790e6448ec8160373ea792cc1c",
       "version_major": 2,
       "version_minor": 0
      },
      "text/plain": [
       "chunk $59:   0%|          | 0/10 [00:00<?, ?it/s]"
      ]
     },
     "metadata": {},
     "output_type": "display_data"
    },
    {
     "data": {
      "application/vnd.jupyter.widget-view+json": {
       "model_id": "ac5016716d744599abfc023ec7fca3b4",
       "version_major": 2,
       "version_minor": 0
      },
      "text/plain": [
       "chunk $60:   0%|          | 0/10 [00:00<?, ?it/s]"
      ]
     },
     "metadata": {},
     "output_type": "display_data"
    },
    {
     "data": {
      "application/vnd.jupyter.widget-view+json": {
       "model_id": "b112fd68d14344ef93b6265d42c5bf31",
       "version_major": 2,
       "version_minor": 0
      },
      "text/plain": [
       "chunk $61:   0%|          | 0/10 [00:00<?, ?it/s]"
      ]
     },
     "metadata": {},
     "output_type": "display_data"
    },
    {
     "data": {
      "application/vnd.jupyter.widget-view+json": {
       "model_id": "c0afb0e7bc2d4b70afe3d14888d3775f",
       "version_major": 2,
       "version_minor": 0
      },
      "text/plain": [
       "chunk $62:   0%|          | 0/10 [00:00<?, ?it/s]"
      ]
     },
     "metadata": {},
     "output_type": "display_data"
    },
    {
     "data": {
      "application/vnd.jupyter.widget-view+json": {
       "model_id": "eec14029f50f4df9852863b525bdb35c",
       "version_major": 2,
       "version_minor": 0
      },
      "text/plain": [
       "chunk $63:   0%|          | 0/10 [00:00<?, ?it/s]"
      ]
     },
     "metadata": {},
     "output_type": "display_data"
    },
    {
     "data": {
      "application/vnd.jupyter.widget-view+json": {
       "model_id": "ae84066f4d424b42bb230f66fb6d5f45",
       "version_major": 2,
       "version_minor": 0
      },
      "text/plain": [
       "chunk $64:   0%|          | 0/10 [00:00<?, ?it/s]"
      ]
     },
     "metadata": {},
     "output_type": "display_data"
    },
    {
     "data": {
      "application/vnd.jupyter.widget-view+json": {
       "model_id": "7f38509620af4dcfbc9686d24bf3b71e",
       "version_major": 2,
       "version_minor": 0
      },
      "text/plain": [
       "chunk $65:   0%|          | 0/10 [00:00<?, ?it/s]"
      ]
     },
     "metadata": {},
     "output_type": "display_data"
    },
    {
     "data": {
      "application/vnd.jupyter.widget-view+json": {
       "model_id": "c199819436e54b0bad12f38ef402ac8c",
       "version_major": 2,
       "version_minor": 0
      },
      "text/plain": [
       "chunk $66:   0%|          | 0/10 [00:00<?, ?it/s]"
      ]
     },
     "metadata": {},
     "output_type": "display_data"
    },
    {
     "data": {
      "application/vnd.jupyter.widget-view+json": {
       "model_id": "a36f58c89c634f6291b5ae5b925c1b9c",
       "version_major": 2,
       "version_minor": 0
      },
      "text/plain": [
       "chunk $67:   0%|          | 0/10 [00:00<?, ?it/s]"
      ]
     },
     "metadata": {},
     "output_type": "display_data"
    },
    {
     "data": {
      "application/vnd.jupyter.widget-view+json": {
       "model_id": "447a591b5f9b43bdbd6d9cf27ee433f7",
       "version_major": 2,
       "version_minor": 0
      },
      "text/plain": [
       "chunk $68:   0%|          | 0/10 [00:00<?, ?it/s]"
      ]
     },
     "metadata": {},
     "output_type": "display_data"
    },
    {
     "data": {
      "application/vnd.jupyter.widget-view+json": {
       "model_id": "5d6c14a883384140b2765ae905bd50df",
       "version_major": 2,
       "version_minor": 0
      },
      "text/plain": [
       "chunk $69:   0%|          | 0/10 [00:00<?, ?it/s]"
      ]
     },
     "metadata": {},
     "output_type": "display_data"
    },
    {
     "data": {
      "application/vnd.jupyter.widget-view+json": {
       "model_id": "953356c2fdc3432d9a6c57614cffb875",
       "version_major": 2,
       "version_minor": 0
      },
      "text/plain": [
       "chunk $70:   0%|          | 0/10 [00:00<?, ?it/s]"
      ]
     },
     "metadata": {},
     "output_type": "display_data"
    },
    {
     "data": {
      "application/vnd.jupyter.widget-view+json": {
       "model_id": "03fbfe8d7842413f81bf0903b4abb190",
       "version_major": 2,
       "version_minor": 0
      },
      "text/plain": [
       "chunk $71:   0%|          | 0/10 [00:00<?, ?it/s]"
      ]
     },
     "metadata": {},
     "output_type": "display_data"
    },
    {
     "data": {
      "application/vnd.jupyter.widget-view+json": {
       "model_id": "5cc24f899f284a858427fa8b661184a5",
       "version_major": 2,
       "version_minor": 0
      },
      "text/plain": [
       "chunk $72:   0%|          | 0/10 [00:00<?, ?it/s]"
      ]
     },
     "metadata": {},
     "output_type": "display_data"
    },
    {
     "data": {
      "application/vnd.jupyter.widget-view+json": {
       "model_id": "3e1d38420b584cfa811c209bb87ac5c6",
       "version_major": 2,
       "version_minor": 0
      },
      "text/plain": [
       "chunk $73:   0%|          | 0/10 [00:00<?, ?it/s]"
      ]
     },
     "metadata": {},
     "output_type": "display_data"
    },
    {
     "data": {
      "application/vnd.jupyter.widget-view+json": {
       "model_id": "fd5b248b8210474aaf479361c31bb418",
       "version_major": 2,
       "version_minor": 0
      },
      "text/plain": [
       "chunk $74:   0%|          | 0/10 [00:00<?, ?it/s]"
      ]
     },
     "metadata": {},
     "output_type": "display_data"
    },
    {
     "data": {
      "application/vnd.jupyter.widget-view+json": {
       "model_id": "c2bfc14d239444218f4150dee928d6b5",
       "version_major": 2,
       "version_minor": 0
      },
      "text/plain": [
       "chunk $75:   0%|          | 0/10 [00:00<?, ?it/s]"
      ]
     },
     "metadata": {},
     "output_type": "display_data"
    },
    {
     "data": {
      "application/vnd.jupyter.widget-view+json": {
       "model_id": "0748ff09cb4f45d1a2bd22d8905c552f",
       "version_major": 2,
       "version_minor": 0
      },
      "text/plain": [
       "chunk $76:   0%|          | 0/10 [00:00<?, ?it/s]"
      ]
     },
     "metadata": {},
     "output_type": "display_data"
    },
    {
     "data": {
      "application/vnd.jupyter.widget-view+json": {
       "model_id": "2d2d27b7314e4dbdb19b37b59b3a0863",
       "version_major": 2,
       "version_minor": 0
      },
      "text/plain": [
       "chunk $77:   0%|          | 0/10 [00:00<?, ?it/s]"
      ]
     },
     "metadata": {},
     "output_type": "display_data"
    },
    {
     "data": {
      "application/vnd.jupyter.widget-view+json": {
       "model_id": "5dc450d30c0749fca27199b4820d36b3",
       "version_major": 2,
       "version_minor": 0
      },
      "text/plain": [
       "chunk $78:   0%|          | 0/10 [00:00<?, ?it/s]"
      ]
     },
     "metadata": {},
     "output_type": "display_data"
    },
    {
     "data": {
      "application/vnd.jupyter.widget-view+json": {
       "model_id": "6e4fae5cc5234ab0baaafcbf4bd15168",
       "version_major": 2,
       "version_minor": 0
      },
      "text/plain": [
       "chunk $79:   0%|          | 0/10 [00:00<?, ?it/s]"
      ]
     },
     "metadata": {},
     "output_type": "display_data"
    },
    {
     "data": {
      "application/vnd.jupyter.widget-view+json": {
       "model_id": "4c99cdd0f47f42e780e6be2f8d2dc5e4",
       "version_major": 2,
       "version_minor": 0
      },
      "text/plain": [
       "chunk $80:   0%|          | 0/10 [00:00<?, ?it/s]"
      ]
     },
     "metadata": {},
     "output_type": "display_data"
    },
    {
     "data": {
      "application/vnd.jupyter.widget-view+json": {
       "model_id": "b90472bac79b4079a1ce4d78c2f68d81",
       "version_major": 2,
       "version_minor": 0
      },
      "text/plain": [
       "chunk $81:   0%|          | 0/10 [00:00<?, ?it/s]"
      ]
     },
     "metadata": {},
     "output_type": "display_data"
    },
    {
     "data": {
      "application/vnd.jupyter.widget-view+json": {
       "model_id": "06dee50d3f7f451789c41d222c903d06",
       "version_major": 2,
       "version_minor": 0
      },
      "text/plain": [
       "chunk $82:   0%|          | 0/10 [00:00<?, ?it/s]"
      ]
     },
     "metadata": {},
     "output_type": "display_data"
    },
    {
     "data": {
      "application/vnd.jupyter.widget-view+json": {
       "model_id": "1a7ab80d50c94acf83a612e815e0dfdc",
       "version_major": 2,
       "version_minor": 0
      },
      "text/plain": [
       "chunk $83:   0%|          | 0/10 [00:00<?, ?it/s]"
      ]
     },
     "metadata": {},
     "output_type": "display_data"
    },
    {
     "data": {
      "application/vnd.jupyter.widget-view+json": {
       "model_id": "9805381192434981b484b8d7fc2c7a45",
       "version_major": 2,
       "version_minor": 0
      },
      "text/plain": [
       "chunk $84:   0%|          | 0/10 [00:00<?, ?it/s]"
      ]
     },
     "metadata": {},
     "output_type": "display_data"
    },
    {
     "data": {
      "application/vnd.jupyter.widget-view+json": {
       "model_id": "5d797f7fcb00419b99882d5b9e4a9f0b",
       "version_major": 2,
       "version_minor": 0
      },
      "text/plain": [
       "chunk $85:   0%|          | 0/10 [00:00<?, ?it/s]"
      ]
     },
     "metadata": {},
     "output_type": "display_data"
    },
    {
     "data": {
      "application/vnd.jupyter.widget-view+json": {
       "model_id": "a96d016494a04a35b3598003c92d7c4e",
       "version_major": 2,
       "version_minor": 0
      },
      "text/plain": [
       "chunk $86:   0%|          | 0/10 [00:00<?, ?it/s]"
      ]
     },
     "metadata": {},
     "output_type": "display_data"
    },
    {
     "data": {
      "application/vnd.jupyter.widget-view+json": {
       "model_id": "d25a94b8700e4edeb4b6369c1209bab8",
       "version_major": 2,
       "version_minor": 0
      },
      "text/plain": [
       "chunk $87:   0%|          | 0/10 [00:00<?, ?it/s]"
      ]
     },
     "metadata": {},
     "output_type": "display_data"
    },
    {
     "data": {
      "application/vnd.jupyter.widget-view+json": {
       "model_id": "b31101b9500e4323ba4db5bb418db875",
       "version_major": 2,
       "version_minor": 0
      },
      "text/plain": [
       "chunk $88:   0%|          | 0/10 [00:00<?, ?it/s]"
      ]
     },
     "metadata": {},
     "output_type": "display_data"
    },
    {
     "data": {
      "application/vnd.jupyter.widget-view+json": {
       "model_id": "85621816421f446cb394e634f5bf8554",
       "version_major": 2,
       "version_minor": 0
      },
      "text/plain": [
       "chunk $89:   0%|          | 0/10 [00:00<?, ?it/s]"
      ]
     },
     "metadata": {},
     "output_type": "display_data"
    },
    {
     "data": {
      "application/vnd.jupyter.widget-view+json": {
       "model_id": "05bde7d2ad2641b89241a30163bf2d1d",
       "version_major": 2,
       "version_minor": 0
      },
      "text/plain": [
       "chunk $90:   0%|          | 0/10 [00:00<?, ?it/s]"
      ]
     },
     "metadata": {},
     "output_type": "display_data"
    },
    {
     "data": {
      "application/vnd.jupyter.widget-view+json": {
       "model_id": "65404c33791e4295a9817a7c328f5cc8",
       "version_major": 2,
       "version_minor": 0
      },
      "text/plain": [
       "chunk $91:   0%|          | 0/10 [00:00<?, ?it/s]"
      ]
     },
     "metadata": {},
     "output_type": "display_data"
    },
    {
     "data": {
      "application/vnd.jupyter.widget-view+json": {
       "model_id": "889bb3b4d99f4d4abe05a6007ebe4cc1",
       "version_major": 2,
       "version_minor": 0
      },
      "text/plain": [
       "chunk $92:   0%|          | 0/10 [00:00<?, ?it/s]"
      ]
     },
     "metadata": {},
     "output_type": "display_data"
    },
    {
     "data": {
      "application/vnd.jupyter.widget-view+json": {
       "model_id": "4d58855564c544e0a7d840b81c0ceebc",
       "version_major": 2,
       "version_minor": 0
      },
      "text/plain": [
       "chunk $93:   0%|          | 0/10 [00:00<?, ?it/s]"
      ]
     },
     "metadata": {},
     "output_type": "display_data"
    },
    {
     "data": {
      "application/vnd.jupyter.widget-view+json": {
       "model_id": "eb82bcfb648b43048cf5cff6afb8a141",
       "version_major": 2,
       "version_minor": 0
      },
      "text/plain": [
       "chunk $94:   0%|          | 0/10 [00:00<?, ?it/s]"
      ]
     },
     "metadata": {},
     "output_type": "display_data"
    },
    {
     "data": {
      "application/vnd.jupyter.widget-view+json": {
       "model_id": "766d6d73355f4435a6c2b82ca1628ae1",
       "version_major": 2,
       "version_minor": 0
      },
      "text/plain": [
       "chunk $95:   0%|          | 0/10 [00:00<?, ?it/s]"
      ]
     },
     "metadata": {},
     "output_type": "display_data"
    },
    {
     "data": {
      "application/vnd.jupyter.widget-view+json": {
       "model_id": "17b9e360bdae4888bbb9352d07c8952a",
       "version_major": 2,
       "version_minor": 0
      },
      "text/plain": [
       "chunk $96:   0%|          | 0/10 [00:00<?, ?it/s]"
      ]
     },
     "metadata": {},
     "output_type": "display_data"
    },
    {
     "data": {
      "application/vnd.jupyter.widget-view+json": {
       "model_id": "2ba97adf7df44927a142841e8d0add63",
       "version_major": 2,
       "version_minor": 0
      },
      "text/plain": [
       "chunk $97:   0%|          | 0/10 [00:00<?, ?it/s]"
      ]
     },
     "metadata": {},
     "output_type": "display_data"
    },
    {
     "data": {
      "application/vnd.jupyter.widget-view+json": {
       "model_id": "57396c662af249018d53c26bbd3c2310",
       "version_major": 2,
       "version_minor": 0
      },
      "text/plain": [
       "chunk $98:   0%|          | 0/10 [00:00<?, ?it/s]"
      ]
     },
     "metadata": {},
     "output_type": "display_data"
    },
    {
     "data": {
      "application/vnd.jupyter.widget-view+json": {
       "model_id": "d79f6b2b21ab4f3aa8f97913136ff6d9",
       "version_major": 2,
       "version_minor": 0
      },
      "text/plain": [
       "chunk $99:   0%|          | 0/10 [00:00<?, ?it/s]"
      ]
     },
     "metadata": {},
     "output_type": "display_data"
    },
    {
     "data": {
      "application/vnd.jupyter.widget-view+json": {
       "model_id": "36a0cbdf57a941e3b06d656b7a2a74af",
       "version_major": 2,
       "version_minor": 0
      },
      "text/plain": [
       "chunk $100:   0%|          | 0/10 [00:00<?, ?it/s]"
      ]
     },
     "metadata": {},
     "output_type": "display_data"
    }
   ],
   "source": [
    "from tqdm.notebook import tqdm\n",
    "import time\n",
    "a=0\n",
    "v=[]\n",
    "# progress_bar = tqdm(total=100, position=0, leave=True)\n",
    "dict = {\n",
    "    'a':1,\n",
    "    'b':2,\n",
    "    'c':3,\n",
    "    'd':4,\n",
    "    'e':5,\n",
    "    'f':6,\n",
    "    'g':7,\n",
    "    'h':8,\n",
    "    'i':9,\n",
    "    'j':10\n",
    "}\n",
    "for i in tqdm(range(0, 100)):\n",
    "    a += 1\n",
    "    time.sleep(0.5)  # Simulate some work being done\n",
    "    for key in tqdm(dict,desc=f'chunk {a}'):\n",
    "        v.append(int(dict[key]))\n",
    "    # Manually update the progress bar\n",
    "    # progress_bar.update(1)"
   ]
  },
  {
   "cell_type": "code",
   "execution_count": 32,
   "metadata": {},
   "outputs": [
    {
     "data": {
      "application/vnd.jupyter.widget-view+json": {
       "model_id": "c694c7139b164463a778b5de0fb6005f",
       "version_major": 2,
       "version_minor": 0
      },
      "text/plain": [
       "  0%|          | 0/100 [00:00<?, ?it/s]"
      ]
     },
     "metadata": {},
     "output_type": "display_data"
    },
    {
     "ename": "TypeError",
     "evalue": "data must be a dict, got: 'Progress: 0/100'",
     "output_type": "error",
     "traceback": [
      "\u001b[0;31m---------------------------------------------------------------------------\u001b[0m",
      "\u001b[0;31mTypeError\u001b[0m                                 Traceback (most recent call last)",
      "Cell \u001b[0;32mIn[32], line 9\u001b[0m\n\u001b[1;32m      7\u001b[0m a \u001b[38;5;241m+\u001b[39m\u001b[38;5;241m=\u001b[39m \u001b[38;5;241m1\u001b[39m\n\u001b[1;32m      8\u001b[0m \u001b[38;5;66;03m# Specify the MIME type as text/plain\u001b[39;00m\n\u001b[0;32m----> 9\u001b[0m \u001b[43mdisplay\u001b[49m\u001b[43m(\u001b[49m\u001b[38;5;124;43mf\u001b[39;49m\u001b[38;5;124;43m\"\u001b[39;49m\u001b[38;5;124;43mProgress: \u001b[39;49m\u001b[38;5;132;43;01m{\u001b[39;49;00m\u001b[43mi\u001b[49m\u001b[38;5;132;43;01m}\u001b[39;49;00m\u001b[38;5;124;43m/100\u001b[39;49m\u001b[38;5;124;43m\"\u001b[39;49m\u001b[43m,\u001b[49m\u001b[43m \u001b[49m\u001b[43mdisplay_id\u001b[49m\u001b[38;5;241;43m=\u001b[39;49m\u001b[38;5;28;43;01mTrue\u001b[39;49;00m\u001b[43m,\u001b[49m\u001b[43m \u001b[49m\u001b[43mraw\u001b[49m\u001b[38;5;241;43m=\u001b[39;49m\u001b[38;5;28;43;01mTrue\u001b[39;49;00m\u001b[43m,\u001b[49m\u001b[43m \u001b[49m\u001b[43mmetadata\u001b[49m\u001b[38;5;241;43m=\u001b[39;49m\u001b[43m{\u001b[49m\u001b[38;5;124;43m'\u001b[39;49m\u001b[38;5;124;43mapplication/vnd.jupyter.stdout\u001b[39;49m\u001b[38;5;124;43m'\u001b[39;49m\u001b[43m:\u001b[49m\u001b[43m \u001b[49m\u001b[38;5;124;43m'\u001b[39;49m\u001b[38;5;124;43mtext/plain\u001b[39;49m\u001b[38;5;124;43m'\u001b[39;49m\u001b[43m}\u001b[49m\u001b[43m)\u001b[49m\n",
      "File \u001b[0;32m~/.pyenv/versions/3.9.13/envs/pyEnv-Tesis/lib/python3.9/site-packages/IPython/core/display_functions.py:296\u001b[0m, in \u001b[0;36mdisplay\u001b[0;34m(include, exclude, metadata, transient, display_id, raw, clear, *objs, **kwargs)\u001b[0m\n\u001b[1;32m    294\u001b[0m \u001b[39mfor\u001b[39;00m obj \u001b[39min\u001b[39;00m objs:\n\u001b[1;32m    295\u001b[0m     \u001b[39mif\u001b[39;00m raw:\n\u001b[0;32m--> 296\u001b[0m         publish_display_data(data\u001b[39m=\u001b[39;49mobj, metadata\u001b[39m=\u001b[39;49mmetadata, \u001b[39m*\u001b[39;49m\u001b[39m*\u001b[39;49mkwargs)\n\u001b[1;32m    297\u001b[0m     \u001b[39melse\u001b[39;00m:\n\u001b[1;32m    298\u001b[0m         format_dict, md_dict \u001b[39m=\u001b[39m \u001b[39mformat\u001b[39m(obj, include\u001b[39m=\u001b[39minclude, exclude\u001b[39m=\u001b[39mexclude)\n",
      "File \u001b[0;32m~/.pyenv/versions/3.9.13/envs/pyEnv-Tesis/lib/python3.9/site-packages/IPython/core/display_functions.py:93\u001b[0m, in \u001b[0;36mpublish_display_data\u001b[0;34m(data, metadata, source, transient, **kwargs)\u001b[0m\n\u001b[1;32m     90\u001b[0m \u001b[39mif\u001b[39;00m transient:\n\u001b[1;32m     91\u001b[0m     kwargs[\u001b[39m'\u001b[39m\u001b[39mtransient\u001b[39m\u001b[39m'\u001b[39m] \u001b[39m=\u001b[39m transient\n\u001b[0;32m---> 93\u001b[0m display_pub\u001b[39m.\u001b[39;49mpublish(\n\u001b[1;32m     94\u001b[0m     data\u001b[39m=\u001b[39;49mdata,\n\u001b[1;32m     95\u001b[0m     metadata\u001b[39m=\u001b[39;49mmetadata,\n\u001b[1;32m     96\u001b[0m     \u001b[39m*\u001b[39;49m\u001b[39m*\u001b[39;49mkwargs\n\u001b[1;32m     97\u001b[0m )\n",
      "File \u001b[0;32m~/.pyenv/versions/3.9.13/envs/pyEnv-Tesis/lib/python3.9/site-packages/ipykernel/zmqshell.py:107\u001b[0m, in \u001b[0;36mZMQDisplayPublisher.publish\u001b[0;34m(self, data, metadata, transient, update)\u001b[0m\n\u001b[1;32m    105\u001b[0m \u001b[39mif\u001b[39;00m transient \u001b[39mis\u001b[39;00m \u001b[39mNone\u001b[39;00m:\n\u001b[1;32m    106\u001b[0m     transient \u001b[39m=\u001b[39m {}\n\u001b[0;32m--> 107\u001b[0m \u001b[39mself\u001b[39;49m\u001b[39m.\u001b[39;49m_validate_data(data, metadata)\n\u001b[1;32m    108\u001b[0m content \u001b[39m=\u001b[39m {}\n\u001b[1;32m    109\u001b[0m content[\u001b[39m\"\u001b[39m\u001b[39mdata\u001b[39m\u001b[39m\"\u001b[39m] \u001b[39m=\u001b[39m encode_images(data)\n",
      "File \u001b[0;32m~/.pyenv/versions/3.9.13/envs/pyEnv-Tesis/lib/python3.9/site-packages/IPython/core/displaypub.py:55\u001b[0m, in \u001b[0;36mDisplayPublisher._validate_data\u001b[0;34m(self, data, metadata)\u001b[0m\n\u001b[1;32m     44\u001b[0m \u001b[39m\u001b[39m\u001b[39m\"\"\"Validate the display data.\u001b[39;00m\n\u001b[1;32m     45\u001b[0m \n\u001b[1;32m     46\u001b[0m \u001b[39mParameters\u001b[39;00m\n\u001b[0;32m   (...)\u001b[0m\n\u001b[1;32m     51\u001b[0m \u001b[39m    Any metadata for the data.\u001b[39;00m\n\u001b[1;32m     52\u001b[0m \u001b[39m\"\"\"\u001b[39;00m\n\u001b[1;32m     54\u001b[0m \u001b[39mif\u001b[39;00m \u001b[39mnot\u001b[39;00m \u001b[39misinstance\u001b[39m(data, \u001b[39mdict\u001b[39m):\n\u001b[0;32m---> 55\u001b[0m     \u001b[39mraise\u001b[39;00m \u001b[39mTypeError\u001b[39;00m(\u001b[39m'\u001b[39m\u001b[39mdata must be a dict, got: \u001b[39m\u001b[39m%r\u001b[39;00m\u001b[39m'\u001b[39m \u001b[39m%\u001b[39m data)\n\u001b[1;32m     56\u001b[0m \u001b[39mif\u001b[39;00m metadata \u001b[39mis\u001b[39;00m \u001b[39mnot\u001b[39;00m \u001b[39mNone\u001b[39;00m:\n\u001b[1;32m     57\u001b[0m     \u001b[39mif\u001b[39;00m \u001b[39mnot\u001b[39;00m \u001b[39misinstance\u001b[39m(metadata, \u001b[39mdict\u001b[39m):\n",
      "\u001b[0;31mTypeError\u001b[0m: data must be a dict, got: 'Progress: 0/100'"
     ]
    }
   ],
   "source": [
    "from IPython.display import display\n",
    "from tqdm.notebook import tqdm\n",
    "\n",
    "a = 0\n",
    "\n",
    "for i in tqdm(range(0, 100)):\n",
    "    a += 1\n",
    "    # Specify the MIME type as text/plain\n",
    "    display(f\"Progress: {i}/100\", display_id=True, raw=True, metadata={'application/vnd.jupyter.stdout': 'text/plain'})\n"
   ]
  }
 ],
 "metadata": {
  "kernelspec": {
   "display_name": "Python 3.9.13 64-bit ('pyEnv-Tesis')",
   "language": "python",
   "name": "python3"
  },
  "language_info": {
   "codemirror_mode": {
    "name": "ipython",
    "version": 3
   },
   "file_extension": ".py",
   "mimetype": "text/x-python",
   "name": "python",
   "nbconvert_exporter": "python",
   "pygments_lexer": "ipython3",
   "version": "3.9.13"
  },
  "orig_nbformat": 4,
  "vscode": {
   "interpreter": {
    "hash": "64bf04684b12aceb54b9fb27a5abbec13f4bc86e011a246870868e1456d1887b"
   }
  }
 },
 "nbformat": 4,
 "nbformat_minor": 2
}
